{
 "cells": [
  {
   "cell_type": "code",
   "execution_count": 11,
   "id": "19f3e643-aed4-4742-a4e3-54c683274624",
   "metadata": {},
   "outputs": [],
   "source": [
    "from __future__ import print_function, division\n",
    "\n",
    "%matplotlib inline\n",
    "import matplotlib\n",
    "import matplotlib.pyplot as plt\n",
    "\n",
    "#packages\n",
    "import scipy.stats as stats\n",
    "\n",
    "from scipy.stats import expon\n",
    "from scipy.stats import gaussian_kde\n",
    "\n",
    "import numpy as np\n",
    "\n",
    "#thinkstats data\n",
    "import nsfg\n",
    "import brfss\n",
    "\n",
    "#thinkstats modules\n",
    "import first\n",
    "import analytic\n",
    "import thinkstats2\n",
    "import thinkplot\n",
    "import density\n",
    "\n",
    "from collections import Counter\n",
    "import math\n",
    "\n"
   ]
  },
  {
   "cell_type": "markdown",
   "id": "33c7018f-d155-4608-83a1-5341b95e5def",
   "metadata": {
    "tags": []
   },
   "source": [
    "# Chapter 1: Exploratory Data analysis"
   ]
  },
  {
   "cell_type": "markdown",
   "id": "ab0a1987-6503-4bf6-8da0-037bf15d696b",
   "metadata": {
    "jp-MarkdownHeadingCollapsed": true,
    "tags": []
   },
   "source": [
    "## 1.4 DataFrames"
   ]
  },
  {
   "cell_type": "code",
   "execution_count": 2,
   "id": "5422a16e-8ce6-435f-a9bf-635ebe067804",
   "metadata": {},
   "outputs": [
    {
     "data": {
      "text/html": [
       "<div>\n",
       "<style scoped>\n",
       "    .dataframe tbody tr th:only-of-type {\n",
       "        vertical-align: middle;\n",
       "    }\n",
       "\n",
       "    .dataframe tbody tr th {\n",
       "        vertical-align: top;\n",
       "    }\n",
       "\n",
       "    .dataframe thead th {\n",
       "        text-align: right;\n",
       "    }\n",
       "</style>\n",
       "<table border=\"1\" class=\"dataframe\">\n",
       "  <thead>\n",
       "    <tr style=\"text-align: right;\">\n",
       "      <th></th>\n",
       "      <th>caseid</th>\n",
       "      <th>pregordr</th>\n",
       "      <th>howpreg_n</th>\n",
       "      <th>howpreg_p</th>\n",
       "      <th>moscurrp</th>\n",
       "      <th>nowprgdk</th>\n",
       "      <th>pregend1</th>\n",
       "      <th>pregend2</th>\n",
       "      <th>nbrnaliv</th>\n",
       "      <th>multbrth</th>\n",
       "      <th>...</th>\n",
       "      <th>laborfor_i</th>\n",
       "      <th>religion_i</th>\n",
       "      <th>metro_i</th>\n",
       "      <th>basewgt</th>\n",
       "      <th>adj_mod_basewgt</th>\n",
       "      <th>finalwgt</th>\n",
       "      <th>secu_p</th>\n",
       "      <th>sest</th>\n",
       "      <th>cmintvw</th>\n",
       "      <th>totalwgt_lb</th>\n",
       "    </tr>\n",
       "  </thead>\n",
       "  <tbody>\n",
       "    <tr>\n",
       "      <th>0</th>\n",
       "      <td>1</td>\n",
       "      <td>1</td>\n",
       "      <td>NaN</td>\n",
       "      <td>NaN</td>\n",
       "      <td>NaN</td>\n",
       "      <td>NaN</td>\n",
       "      <td>6.0</td>\n",
       "      <td>NaN</td>\n",
       "      <td>1.0</td>\n",
       "      <td>NaN</td>\n",
       "      <td>...</td>\n",
       "      <td>0</td>\n",
       "      <td>0</td>\n",
       "      <td>0</td>\n",
       "      <td>3410.389399</td>\n",
       "      <td>3869.349602</td>\n",
       "      <td>6448.271112</td>\n",
       "      <td>2</td>\n",
       "      <td>9</td>\n",
       "      <td>NaN</td>\n",
       "      <td>8.8125</td>\n",
       "    </tr>\n",
       "    <tr>\n",
       "      <th>1</th>\n",
       "      <td>1</td>\n",
       "      <td>2</td>\n",
       "      <td>NaN</td>\n",
       "      <td>NaN</td>\n",
       "      <td>NaN</td>\n",
       "      <td>NaN</td>\n",
       "      <td>6.0</td>\n",
       "      <td>NaN</td>\n",
       "      <td>1.0</td>\n",
       "      <td>NaN</td>\n",
       "      <td>...</td>\n",
       "      <td>0</td>\n",
       "      <td>0</td>\n",
       "      <td>0</td>\n",
       "      <td>3410.389399</td>\n",
       "      <td>3869.349602</td>\n",
       "      <td>6448.271112</td>\n",
       "      <td>2</td>\n",
       "      <td>9</td>\n",
       "      <td>NaN</td>\n",
       "      <td>7.8750</td>\n",
       "    </tr>\n",
       "    <tr>\n",
       "      <th>2</th>\n",
       "      <td>2</td>\n",
       "      <td>1</td>\n",
       "      <td>NaN</td>\n",
       "      <td>NaN</td>\n",
       "      <td>NaN</td>\n",
       "      <td>NaN</td>\n",
       "      <td>5.0</td>\n",
       "      <td>NaN</td>\n",
       "      <td>3.0</td>\n",
       "      <td>5.0</td>\n",
       "      <td>...</td>\n",
       "      <td>0</td>\n",
       "      <td>0</td>\n",
       "      <td>0</td>\n",
       "      <td>7226.301740</td>\n",
       "      <td>8567.549110</td>\n",
       "      <td>12999.542264</td>\n",
       "      <td>2</td>\n",
       "      <td>12</td>\n",
       "      <td>NaN</td>\n",
       "      <td>9.1250</td>\n",
       "    </tr>\n",
       "    <tr>\n",
       "      <th>3</th>\n",
       "      <td>2</td>\n",
       "      <td>2</td>\n",
       "      <td>NaN</td>\n",
       "      <td>NaN</td>\n",
       "      <td>NaN</td>\n",
       "      <td>NaN</td>\n",
       "      <td>6.0</td>\n",
       "      <td>NaN</td>\n",
       "      <td>1.0</td>\n",
       "      <td>NaN</td>\n",
       "      <td>...</td>\n",
       "      <td>0</td>\n",
       "      <td>0</td>\n",
       "      <td>0</td>\n",
       "      <td>7226.301740</td>\n",
       "      <td>8567.549110</td>\n",
       "      <td>12999.542264</td>\n",
       "      <td>2</td>\n",
       "      <td>12</td>\n",
       "      <td>NaN</td>\n",
       "      <td>7.0000</td>\n",
       "    </tr>\n",
       "    <tr>\n",
       "      <th>4</th>\n",
       "      <td>2</td>\n",
       "      <td>3</td>\n",
       "      <td>NaN</td>\n",
       "      <td>NaN</td>\n",
       "      <td>NaN</td>\n",
       "      <td>NaN</td>\n",
       "      <td>6.0</td>\n",
       "      <td>NaN</td>\n",
       "      <td>1.0</td>\n",
       "      <td>NaN</td>\n",
       "      <td>...</td>\n",
       "      <td>0</td>\n",
       "      <td>0</td>\n",
       "      <td>0</td>\n",
       "      <td>7226.301740</td>\n",
       "      <td>8567.549110</td>\n",
       "      <td>12999.542264</td>\n",
       "      <td>2</td>\n",
       "      <td>12</td>\n",
       "      <td>NaN</td>\n",
       "      <td>6.1875</td>\n",
       "    </tr>\n",
       "    <tr>\n",
       "      <th>...</th>\n",
       "      <td>...</td>\n",
       "      <td>...</td>\n",
       "      <td>...</td>\n",
       "      <td>...</td>\n",
       "      <td>...</td>\n",
       "      <td>...</td>\n",
       "      <td>...</td>\n",
       "      <td>...</td>\n",
       "      <td>...</td>\n",
       "      <td>...</td>\n",
       "      <td>...</td>\n",
       "      <td>...</td>\n",
       "      <td>...</td>\n",
       "      <td>...</td>\n",
       "      <td>...</td>\n",
       "      <td>...</td>\n",
       "      <td>...</td>\n",
       "      <td>...</td>\n",
       "      <td>...</td>\n",
       "      <td>...</td>\n",
       "      <td>...</td>\n",
       "    </tr>\n",
       "    <tr>\n",
       "      <th>13588</th>\n",
       "      <td>12571</td>\n",
       "      <td>1</td>\n",
       "      <td>NaN</td>\n",
       "      <td>NaN</td>\n",
       "      <td>NaN</td>\n",
       "      <td>NaN</td>\n",
       "      <td>6.0</td>\n",
       "      <td>NaN</td>\n",
       "      <td>1.0</td>\n",
       "      <td>NaN</td>\n",
       "      <td>...</td>\n",
       "      <td>0</td>\n",
       "      <td>0</td>\n",
       "      <td>0</td>\n",
       "      <td>4670.540953</td>\n",
       "      <td>5795.692880</td>\n",
       "      <td>6269.200989</td>\n",
       "      <td>1</td>\n",
       "      <td>78</td>\n",
       "      <td>NaN</td>\n",
       "      <td>6.1875</td>\n",
       "    </tr>\n",
       "    <tr>\n",
       "      <th>13589</th>\n",
       "      <td>12571</td>\n",
       "      <td>2</td>\n",
       "      <td>NaN</td>\n",
       "      <td>NaN</td>\n",
       "      <td>NaN</td>\n",
       "      <td>NaN</td>\n",
       "      <td>3.0</td>\n",
       "      <td>NaN</td>\n",
       "      <td>NaN</td>\n",
       "      <td>NaN</td>\n",
       "      <td>...</td>\n",
       "      <td>0</td>\n",
       "      <td>0</td>\n",
       "      <td>0</td>\n",
       "      <td>4670.540953</td>\n",
       "      <td>5795.692880</td>\n",
       "      <td>6269.200989</td>\n",
       "      <td>1</td>\n",
       "      <td>78</td>\n",
       "      <td>NaN</td>\n",
       "      <td>NaN</td>\n",
       "    </tr>\n",
       "    <tr>\n",
       "      <th>13590</th>\n",
       "      <td>12571</td>\n",
       "      <td>3</td>\n",
       "      <td>NaN</td>\n",
       "      <td>NaN</td>\n",
       "      <td>NaN</td>\n",
       "      <td>NaN</td>\n",
       "      <td>3.0</td>\n",
       "      <td>NaN</td>\n",
       "      <td>NaN</td>\n",
       "      <td>NaN</td>\n",
       "      <td>...</td>\n",
       "      <td>0</td>\n",
       "      <td>0</td>\n",
       "      <td>0</td>\n",
       "      <td>4670.540953</td>\n",
       "      <td>5795.692880</td>\n",
       "      <td>6269.200989</td>\n",
       "      <td>1</td>\n",
       "      <td>78</td>\n",
       "      <td>NaN</td>\n",
       "      <td>NaN</td>\n",
       "    </tr>\n",
       "    <tr>\n",
       "      <th>13591</th>\n",
       "      <td>12571</td>\n",
       "      <td>4</td>\n",
       "      <td>NaN</td>\n",
       "      <td>NaN</td>\n",
       "      <td>NaN</td>\n",
       "      <td>NaN</td>\n",
       "      <td>6.0</td>\n",
       "      <td>NaN</td>\n",
       "      <td>1.0</td>\n",
       "      <td>NaN</td>\n",
       "      <td>...</td>\n",
       "      <td>0</td>\n",
       "      <td>0</td>\n",
       "      <td>0</td>\n",
       "      <td>4670.540953</td>\n",
       "      <td>5795.692880</td>\n",
       "      <td>6269.200989</td>\n",
       "      <td>1</td>\n",
       "      <td>78</td>\n",
       "      <td>NaN</td>\n",
       "      <td>7.5000</td>\n",
       "    </tr>\n",
       "    <tr>\n",
       "      <th>13592</th>\n",
       "      <td>12571</td>\n",
       "      <td>5</td>\n",
       "      <td>NaN</td>\n",
       "      <td>NaN</td>\n",
       "      <td>NaN</td>\n",
       "      <td>NaN</td>\n",
       "      <td>6.0</td>\n",
       "      <td>NaN</td>\n",
       "      <td>1.0</td>\n",
       "      <td>NaN</td>\n",
       "      <td>...</td>\n",
       "      <td>0</td>\n",
       "      <td>0</td>\n",
       "      <td>0</td>\n",
       "      <td>4670.540953</td>\n",
       "      <td>5795.692880</td>\n",
       "      <td>6269.200989</td>\n",
       "      <td>1</td>\n",
       "      <td>78</td>\n",
       "      <td>NaN</td>\n",
       "      <td>7.5000</td>\n",
       "    </tr>\n",
       "  </tbody>\n",
       "</table>\n",
       "<p>13593 rows × 244 columns</p>\n",
       "</div>"
      ],
      "text/plain": [
       "       caseid  pregordr  howpreg_n  howpreg_p  moscurrp  nowprgdk  pregend1  \\\n",
       "0           1         1        NaN        NaN       NaN       NaN       6.0   \n",
       "1           1         2        NaN        NaN       NaN       NaN       6.0   \n",
       "2           2         1        NaN        NaN       NaN       NaN       5.0   \n",
       "3           2         2        NaN        NaN       NaN       NaN       6.0   \n",
       "4           2         3        NaN        NaN       NaN       NaN       6.0   \n",
       "...       ...       ...        ...        ...       ...       ...       ...   \n",
       "13588   12571         1        NaN        NaN       NaN       NaN       6.0   \n",
       "13589   12571         2        NaN        NaN       NaN       NaN       3.0   \n",
       "13590   12571         3        NaN        NaN       NaN       NaN       3.0   \n",
       "13591   12571         4        NaN        NaN       NaN       NaN       6.0   \n",
       "13592   12571         5        NaN        NaN       NaN       NaN       6.0   \n",
       "\n",
       "       pregend2  nbrnaliv  multbrth  ...  laborfor_i  religion_i  metro_i  \\\n",
       "0           NaN       1.0       NaN  ...           0           0        0   \n",
       "1           NaN       1.0       NaN  ...           0           0        0   \n",
       "2           NaN       3.0       5.0  ...           0           0        0   \n",
       "3           NaN       1.0       NaN  ...           0           0        0   \n",
       "4           NaN       1.0       NaN  ...           0           0        0   \n",
       "...         ...       ...       ...  ...         ...         ...      ...   \n",
       "13588       NaN       1.0       NaN  ...           0           0        0   \n",
       "13589       NaN       NaN       NaN  ...           0           0        0   \n",
       "13590       NaN       NaN       NaN  ...           0           0        0   \n",
       "13591       NaN       1.0       NaN  ...           0           0        0   \n",
       "13592       NaN       1.0       NaN  ...           0           0        0   \n",
       "\n",
       "           basewgt  adj_mod_basewgt      finalwgt  secu_p  sest  cmintvw  \\\n",
       "0      3410.389399      3869.349602   6448.271112       2     9      NaN   \n",
       "1      3410.389399      3869.349602   6448.271112       2     9      NaN   \n",
       "2      7226.301740      8567.549110  12999.542264       2    12      NaN   \n",
       "3      7226.301740      8567.549110  12999.542264       2    12      NaN   \n",
       "4      7226.301740      8567.549110  12999.542264       2    12      NaN   \n",
       "...            ...              ...           ...     ...   ...      ...   \n",
       "13588  4670.540953      5795.692880   6269.200989       1    78      NaN   \n",
       "13589  4670.540953      5795.692880   6269.200989       1    78      NaN   \n",
       "13590  4670.540953      5795.692880   6269.200989       1    78      NaN   \n",
       "13591  4670.540953      5795.692880   6269.200989       1    78      NaN   \n",
       "13592  4670.540953      5795.692880   6269.200989       1    78      NaN   \n",
       "\n",
       "       totalwgt_lb  \n",
       "0           8.8125  \n",
       "1           7.8750  \n",
       "2           9.1250  \n",
       "3           7.0000  \n",
       "4           6.1875  \n",
       "...            ...  \n",
       "13588       6.1875  \n",
       "13589          NaN  \n",
       "13590          NaN  \n",
       "13591       7.5000  \n",
       "13592       7.5000  \n",
       "\n",
       "[13593 rows x 244 columns]"
      ]
     },
     "execution_count": 2,
     "metadata": {},
     "output_type": "execute_result"
    }
   ],
   "source": [
    "# 1.4 DataFrames\n",
    "\n",
    "df = nsfg.ReadFemPreg()\n",
    "df"
   ]
  },
  {
   "cell_type": "code",
   "execution_count": 4,
   "id": "6b5d4491-b4c4-4d62-be3d-c5a932930bc0",
   "metadata": {},
   "outputs": [
    {
     "data": {
      "text/plain": [
       "Index(['caseid', 'pregordr', 'howpreg_n', 'howpreg_p', 'moscurrp', 'nowprgdk',\n",
       "       'pregend1', 'pregend2', 'nbrnaliv', 'multbrth',\n",
       "       ...\n",
       "       'laborfor_i', 'religion_i', 'metro_i', 'basewgt', 'adj_mod_basewgt',\n",
       "       'finalwgt', 'secu_p', 'sest', 'cmintvw', 'totalwgt_lb'],\n",
       "      dtype='object', length=244)"
      ]
     },
     "execution_count": 4,
     "metadata": {},
     "output_type": "execute_result"
    }
   ],
   "source": [
    "# display columns\n",
    "df.columns"
   ]
  },
  {
   "cell_type": "code",
   "execution_count": 5,
   "id": "7c9e1f32-b8da-456f-876e-b12661909dc4",
   "metadata": {},
   "outputs": [
    {
     "data": {
      "text/plain": [
       "'pregordr'"
      ]
     },
     "execution_count": 5,
     "metadata": {},
     "output_type": "execute_result"
    }
   ],
   "source": [
    "#index in columns\n",
    "df.columns[1]"
   ]
  },
  {
   "cell_type": "code",
   "execution_count": 11,
   "id": "46d135b4-ebaf-4666-9884-9043e29be8f7",
   "metadata": {},
   "outputs": [
    {
     "data": {
      "text/plain": [
       "pandas.core.series.Series"
      ]
     },
     "execution_count": 11,
     "metadata": {},
     "output_type": "execute_result"
    }
   ],
   "source": [
    "# access columns, using columns name as key\n",
    "\n",
    "pregordr = df['pregordr']\n",
    "type(pregordr)\n",
    "\n",
    "#series are like a python list, and also provide indicies and corresponding values"
   ]
  },
  {
   "cell_type": "code",
   "execution_count": 16,
   "id": "466761c8-fdd5-468b-abbc-cda2cece9c2c",
   "metadata": {},
   "outputs": [
    {
     "data": {
      "text/plain": [
       "0        1\n",
       "1        2\n",
       "2        1\n",
       "3        2\n",
       "4        3\n",
       "        ..\n",
       "13588    1\n",
       "13589    2\n",
       "13590    3\n",
       "13591    4\n",
       "13592    5\n",
       "Name: pregordr, Length: 13593, dtype: int64"
      ]
     },
     "execution_count": 16,
     "metadata": {},
     "output_type": "execute_result"
    }
   ],
   "source": [
    "pregordr\n",
    "\n",
    "#use integer indicies and slices from 0:len(pregordr) to access elements of a series\n",
    "#pregordr[0] or pregordr[2:5]\n",
    "\n",
    "#result of index operater is an int64\n",
    "# result of slice is another Series"
   ]
  },
  {
   "cell_type": "code",
   "execution_count": 18,
   "id": "8dcf09c2-4e58-4b02-b4f0-9dabb32ebb9e",
   "metadata": {},
   "outputs": [
    {
     "data": {
      "text/plain": [
       "0        1\n",
       "1        2\n",
       "2        1\n",
       "3        2\n",
       "4        3\n",
       "        ..\n",
       "13588    1\n",
       "13589    2\n",
       "13590    3\n",
       "13591    4\n",
       "13592    5\n",
       "Name: pregordr, Length: 13593, dtype: int64"
      ]
     },
     "execution_count": 18,
     "metadata": {},
     "output_type": "execute_result"
    }
   ],
   "source": [
    "#Another way to access columns!\n",
    "\n",
    "pregordr = df.pregordr\n",
    "pregordr"
   ]
  },
  {
   "cell_type": "markdown",
   "id": "455a988a-2c11-4570-afff-a5645e27bb8f",
   "metadata": {},
   "source": [
    "1.5 Variables: \n",
    "* be familiar with the variables assigned and how they are conducted\n",
    "\n",
    "1.5 Transformations\n",
    "* converting data into a dataframe, special values, and performing calculations will require data cleaning. \n",
    "* for example, replacing speacial values with Nan values (np.nan) for logical calculations\n",
    "* adding new columns == df['columns_name']\n",
    "\n",
    "1.7 Validation\n",
    "* Careful not to interpret data incorrectly (in this case taking data from another statistical software)\n",
    "* If you take time to validate the data, you can save time later and avoid errors\n",
    "\n",
    "How? \n",
    "* compute vasic statistics and compare with published results\n"
   ]
  },
  {
   "cell_type": "code",
   "execution_count": 21,
   "id": "cd56f459-0813-45ff-891d-9d0104dea6bc",
   "metadata": {},
   "outputs": [
    {
     "data": {
      "text/plain": [
       "1    9148\n",
       "2    1862\n",
       "3     120\n",
       "4    1921\n",
       "5     190\n",
       "6     352\n",
       "Name: outcome, dtype: int64"
      ]
     },
     "execution_count": 21,
     "metadata": {},
     "output_type": "execute_result"
    }
   ],
   "source": [
    "# Validating the outcome Series compared to the nsfg codebook\n",
    "\n",
    "df.outcome.value_counts().sort_index()\n",
    "\n",
    "# in here, the result is the outcome Series; sort_index() sorts the Series by index so values appear in order"
   ]
  },
  {
   "cell_type": "code",
   "execution_count": 28,
   "id": "1e9ff333-1994-411e-9681-2a1b857819af",
   "metadata": {},
   "outputs": [
    {
     "data": {
      "text/plain": [
       "0.0        8\n",
       "1.0       40\n",
       "2.0       53\n",
       "3.0       98\n",
       "4.0      229\n",
       "5.0      697\n",
       "6.0     2223\n",
       "7.0     3049\n",
       "8.0     1889\n",
       "9.0      623\n",
       "10.0     132\n",
       "11.0      26\n",
       "12.0      10\n",
       "13.0       3\n",
       "14.0       3\n",
       "15.0       1\n",
       "Name: birthwgt_lb, dtype: int64"
      ]
     },
     "execution_count": 28,
     "metadata": {},
     "output_type": "execute_result"
    }
   ],
   "source": [
    "df.birthwgt_lb.value_counts().sort_index()"
   ]
  },
  {
   "cell_type": "markdown",
   "id": "71111553-dcd5-4aeb-a622-6a44d8235228",
   "metadata": {
    "tags": []
   },
   "source": [
    "## Ch 1 Excercise Thoughts: \n",
    "* went through the problems well. mostly just understanding the power of `value_counts().sort_index()`    \n",
    "* understanding how to access columns and their indexes\n",
    "* how to add or updated columns\n",
    "\n",
    "Understand how functions are created and feed into creating our dataframes, variables, when cleaning through transformations, and validating that all our stuff is good. "
   ]
  },
  {
   "cell_type": "markdown",
   "id": "6b519af8-2d36-471c-ba55-1321e05383d1",
   "metadata": {
    "tags": []
   },
   "source": [
    "# Chapter 2: Distributions"
   ]
  },
  {
   "cell_type": "markdown",
   "id": "3a63b417-c319-42be-9dad-9fc9d91d1b4e",
   "metadata": {
    "tags": []
   },
   "source": [
    "### Histograms\n",
    "Will try to commit to not using the book's module"
   ]
  },
  {
   "cell_type": "markdown",
   "id": "c3fee213-0f6d-4d05-a97c-adc4a1901667",
   "metadata": {},
   "source": [
    "Different ways to create dictionaries. Easiest way to get frequencies of numbers stored for a histogram: \n",
    "* not listed below, but `value_counts` an option for pandas method"
   ]
  },
  {
   "cell_type": "code",
   "execution_count": 46,
   "id": "ff36548c-b7fe-4b59-a66e-6827eee3f61f",
   "metadata": {},
   "outputs": [
    {
     "data": {
      "text/plain": [
       "{1: 1, 2: 2, 3: 1, 4: 1, 5: 1}"
      ]
     },
     "execution_count": 46,
     "metadata": {},
     "output_type": "execute_result"
    }
   ],
   "source": [
    "#exmaples: using for loop to iterate through a list\n",
    "\n",
    "x = [1,2,2,3,4,5]\n",
    "\n",
    "hist_x = dict()\n",
    "for elem in x:\n",
    "    hist_x[elem] = hist_x.get(elem,0) + 1\n",
    "hist_x"
   ]
  },
  {
   "cell_type": "code",
   "execution_count": 43,
   "id": "fca5996d-92b8-4950-849b-88dfeee1cd08",
   "metadata": {},
   "outputs": [
    {
     "data": {
      "text/plain": [
       "Counter({1: 1, 2: 2, 3: 1, 4: 1, 5: 1})"
      ]
     },
     "execution_count": 43,
     "metadata": {},
     "output_type": "execute_result"
    }
   ],
   "source": [
    "# Using Collections.Counter\n",
    "\n",
    "hist_counter = Counter(x)\n",
    "hist_counter"
   ]
  },
  {
   "cell_type": "code",
   "execution_count": 56,
   "id": "d8c1a253-235c-489b-8dc3-6e7ba0be984f",
   "metadata": {},
   "outputs": [
    {
     "data": {
      "image/png": "[encoded data removed]",
      "text/plain": [
       "<Figure size 432x288 with 1 Axes>"
      ]
     },
     "metadata": {
      "needs_background": "light"
     },
     "output_type": "display_data"
    }
   ],
   "source": [
    "plt.bar(list(hist_x.keys()), hist_x.values(), color='g')\n",
    "plt.show()"
   ]
  },
  {
   "cell_type": "markdown",
   "id": "d5266bbb-2589-48a5-9954-c7eb0ef72f7e",
   "metadata": {
    "jp-MarkdownHeadingCollapsed": true,
    "tags": []
   },
   "source": [
    "### Representing and Plotting Histograms\n",
    "\n",
    "first run thourgh with his module"
   ]
  },
  {
   "cell_type": "code",
   "execution_count": 47,
   "id": "ae60b248-853a-4864-b75f-7afdedd1f28c",
   "metadata": {},
   "outputs": [
    {
     "data": {
      "text/plain": [
       "Hist({1: 1, 2: 2, 3: 1, 5: 1})"
      ]
     },
     "execution_count": 47,
     "metadata": {},
     "output_type": "execute_result"
    }
   ],
   "source": [
    "hist = thinkstats2.Hist([1,2,2,3,5])\n",
    "hist"
   ]
  },
  {
   "cell_type": "code",
   "execution_count": 57,
   "id": "ae7cbfe0-e582-49a9-b8c6-2c82b7a29165",
   "metadata": {},
   "outputs": [
    {
     "data": {
      "image/png": "[encoded data removed]",
      "text/plain": [
       "<Figure size 432x288 with 1 Axes>"
      ]
     },
     "metadata": {
      "needs_background": "light"
     },
     "output_type": "display_data"
    }
   ],
   "source": [
    "thinkplot.Hist(hist)\n",
    "plt.show()"
   ]
  },
  {
   "cell_type": "code",
   "execution_count": 49,
   "id": "38af896b-9bc4-4ef0-9c0f-ee37243aa06f",
   "metadata": {},
   "outputs": [
    {
     "data": {
      "image/png": "[encoded data removed]",
      "text/plain": [
       "<Figure size 432x288 with 1 Axes>"
      ]
     },
     "metadata": {
      "needs_background": "light"
     },
     "output_type": "display_data"
    },
    {
     "data": {
      "text/plain": [
       "<Figure size 576x432 with 0 Axes>"
      ]
     },
     "metadata": {},
     "output_type": "display_data"
    }
   ],
   "source": [
    "thinkplot.Hist(hist)\n",
    "thinkplot.Show(xlabel='value', ylabel='frequency')"
   ]
  },
  {
   "cell_type": "markdown",
   "id": "01a66b74-f86e-4dca-a5fa-1f2d4a1b4534",
   "metadata": {
    "tags": []
   },
   "source": [
    "### NSFG Variables\n",
    "\n",
    "Histograms helps to take a first look at your variables"
   ]
  },
  {
   "cell_type": "code",
   "execution_count": 59,
   "id": "d4d33a1e-15b6-451a-9764-f67f3d3aa1d6",
   "metadata": {},
   "outputs": [],
   "source": [
    "preg = nsfg.ReadFemPreg()\n",
    "live = preg[preg.outcome == 1]"
   ]
  },
  {
   "cell_type": "markdown",
   "id": "e485a50a-1100-4cc4-9597-4e1dc731e1d0",
   "metadata": {},
   "source": [
    "Histogram for Live `birthwgt_lb`\n",
    "\n",
    "Reflects similiar to a normal distribution (Gaussian distribution). \n",
    "But, this one is asymmetric with a tail extending father left compared to the right side. "
   ]
  },
  {
   "cell_type": "code",
   "execution_count": 81,
   "id": "e52579e4-7113-45f9-a8ca-c365b2ed4be2",
   "metadata": {},
   "outputs": [
    {
     "data": {
      "image/png": "[encoded data removed]",
      "text/plain": [
       "<Figure size 432x288 with 1 Axes>"
      ]
     },
     "metadata": {
      "needs_background": "light"
     },
     "output_type": "display_data"
    }
   ],
   "source": [
    "plt.hist(live.totalwgt_lb, rwidth=0.90)\n",
    "\n",
    "plt.title(\"Weight(lbs) of Live Births\")\n",
    "plt.legend(\"birthwgt_lb\")\n",
    "plt.xlabel(\"Birth weights in lbs\")\n",
    "plt.ylabel(\"Count\")\n",
    "plt.show()"
   ]
  },
  {
   "cell_type": "markdown",
   "id": "c4b1e66a-acac-4536-902a-6fc768f6f457",
   "metadata": {},
   "source": [
    "Histogram of `agepreg` (the mother's age at the end of pregancy)\n",
    "\n",
    "Distribution roughly bell-shaped, but tails to the right than left. Most mothers in 20s than in 30s."
   ]
  },
  {
   "cell_type": "code",
   "execution_count": 89,
   "id": "f4249a12-abcc-489e-a63a-326246665d1b",
   "metadata": {},
   "outputs": [
    {
     "data": {
      "image/png": "[encoded data removed]",
      "text/plain": [
       "<Figure size 432x288 with 1 Axes>"
      ]
     },
     "metadata": {
      "needs_background": "light"
     },
     "output_type": "display_data"
    }
   ],
   "source": [
    "plt.hist(live.agepreg,bins=30, rwidth=0.90)\n",
    "\n",
    "plt.title(\"Age at end of Pregnancy\")\n",
    "plt.legend(\"agepreg\")\n",
    "plt.xlabel(\"Age\")\n",
    "plt.ylabel(\"Count\")\n",
    "plt.show()"
   ]
  },
  {
   "cell_type": "markdown",
   "id": "ef2974ad-dfee-467b-8659-79f959f1ccfa",
   "metadata": {},
   "source": [
    "Histogram for `prglength`\n",
    "\n",
    "By far, most common length is 39 weeks (~9 months). Left tail is longer where early babies are common, but not going past 43 days requiring doctor intervention. "
   ]
  },
  {
   "cell_type": "code",
   "execution_count": 94,
   "id": "2d58bf35-23d2-49ac-ab43-048b9998a862",
   "metadata": {},
   "outputs": [
    {
     "data": {
      "image/png": "[encoded data removed]",
      "text/plain": [
       "<Figure size 432x288 with 1 Axes>"
      ]
     },
     "metadata": {
      "needs_background": "light"
     },
     "output_type": "display_data"
    }
   ],
   "source": [
    "plt.hist(live.prglngth, bins=30, rwidth=0.90)\n",
    "\n",
    "plt.title(\"Length of the Pregnancy in Weeks\")\n",
    "plt.legend(\"prglngth\")\n",
    "plt.xlabel(\"prglngth\")\n",
    "plt.ylabel(\"Count\")\n",
    "plt.show()"
   ]
  },
  {
   "cell_type": "code",
   "execution_count": null,
   "id": "246d76c2-c5bf-4eec-b344-10a8d88633f6",
   "metadata": {},
   "outputs": [],
   "source": [
    "#investigating further for the specific weeks\n",
    "live.prglngth.value_counts().sort_index()"
   ]
  },
  {
   "cell_type": "markdown",
   "id": "8c564238-0f55-4aa4-8ddc-329f527c3e7c",
   "metadata": {
    "tags": []
   },
   "source": [
    "### 2.5 Outliers\n",
    "\n",
    "Shape and common values are easy to identify! But how to find rare values? \n",
    "\n",
    "Check for outliers: \n",
    "* Check for the largest and smallest in a hist"
   ]
  },
  {
   "cell_type": "code",
   "execution_count": 103,
   "id": "fc94b805-e300-4161-a4b6-6a18d50296e1",
   "metadata": {},
   "outputs": [],
   "source": [
    "live_preg_lngth = live.prglngth"
   ]
  },
  {
   "cell_type": "code",
   "execution_count": 120,
   "id": "fdcc188d-7bda-4586-b540-ac1256210cd6",
   "metadata": {},
   "outputs": [
    {
     "data": {
      "text/plain": [
       "{39: 4693,\n",
       " 38: 607,\n",
       " 40: 1116,\n",
       " 42: 328,\n",
       " 35: 311,\n",
       " 37: 455,\n",
       " 33: 49,\n",
       " 41: 587,\n",
       " 36: 321,\n",
       " 43: 148,\n",
       " 9: 1,\n",
       " 32: 115,\n",
       " 24: 13,\n",
       " 44: 46,\n",
       " 30: 138,\n",
       " 28: 32,\n",
       " 31: 27,\n",
       " 34: 60,\n",
       " 18: 1,\n",
       " 26: 35,\n",
       " 20: 1,\n",
       " 45: 10,\n",
       " 25: 3,\n",
       " 27: 3,\n",
       " 48: 7,\n",
       " 29: 21,\n",
       " 4: 1,\n",
       " 50: 2,\n",
       " 22: 7,\n",
       " 0: 1,\n",
       " 19: 1,\n",
       " 21: 2,\n",
       " 17: 2,\n",
       " 47: 1,\n",
       " 13: 1,\n",
       " 23: 1,\n",
       " 46: 1}"
      ]
     },
     "execution_count": 120,
     "metadata": {},
     "output_type": "execute_result"
    }
   ],
   "source": [
    "#need to create dictionary for frequencies to review\n",
    "\n",
    "live_prg_d = dict()\n",
    "\n",
    "for elem in live_preg_lngth:\n",
    "    live_prg_d[elem] = live_prg_d.get(elem,0) + 1\n",
    "    \n",
    "live_prg_d"
   ]
  },
  {
   "cell_type": "code",
   "execution_count": 117,
   "id": "e95f6156-c6ed-43e1-8f3d-89e77b42b15b",
   "metadata": {},
   "outputs": [
    {
     "name": "stdout",
     "output_type": "stream",
     "text": [
      "0 1\n",
      "4 1\n",
      "9 1\n",
      "13 1\n",
      "17 2\n",
      "18 1\n",
      "19 1\n",
      "20 1\n",
      "21 2\n",
      "22 7\n"
     ]
    }
   ],
   "source": [
    "# Sort dictionary for smallest frequencies\n",
    "smallest = sorted(live_prg_d.items(), reverse=False)[:10]\n",
    "\n",
    "\n",
    "#iterate through dictionary\n",
    "for weeks, freq in smallest:\n",
    "    print(weeks, freq)"
   ]
  },
  {
   "cell_type": "code",
   "execution_count": 119,
   "id": "d2652bbd-fe68-4748-a2dc-a9b86925c991",
   "metadata": {},
   "outputs": [
    {
     "name": "stdout",
     "output_type": "stream",
     "text": [
      "50 2\n",
      "48 7\n",
      "47 1\n",
      "46 1\n",
      "45 10\n",
      "44 46\n",
      "43 148\n"
     ]
    }
   ],
   "source": [
    "largest = sorted(live_prg_d.items(), reverse=True)[:7]\n",
    "\n",
    "for weeks, freq in largest:\n",
    "    print(weeks, freq)"
   ]
  },
  {
   "cell_type": "markdown",
   "id": "1d06705b-fc66-4491-b826-0b949addfb23",
   "metadata": {},
   "source": [
    "Best way to handle outliers depends on \"domain knowledge\", that is, information about where the data comes from and what they mean. And the analysis you plan on. "
   ]
  },
  {
   "cell_type": "markdown",
   "id": "405d1b0d-942d-436f-b303-ac130fac19f5",
   "metadata": {
    "tags": []
   },
   "source": [
    "### 2.6 First Babies\n",
    "\n",
    "Finally, let's try comparing distribution of preg lengths for first babies compared to others. "
   ]
  },
  {
   "cell_type": "code",
   "execution_count": 217,
   "id": "7f6442d9-6643-4214-b9ec-cb77e70f733f",
   "metadata": {},
   "outputs": [],
   "source": [
    "# create dataframes of live births for comparison\n",
    "\n",
    "firsts = live[live.birthord == 1]\n",
    "others = live[live.birthord != 1]"
   ]
  },
  {
   "cell_type": "code",
   "execution_count": 216,
   "id": "4a1dc570-4f72-46bc-b298-0464ce9baca2",
   "metadata": {},
   "outputs": [
    {
     "data": {
      "image/png": "[encoded data removed]",
      "text/plain": [
       "<Figure size 432x288 with 1 Axes>"
      ]
     },
     "metadata": {
      "needs_background": "light"
     },
     "output_type": "display_data"
    }
   ],
   "source": [
    "first_hist  = plt.hist(firsts['prglngth'], bins=30, rwidth = 0.45, label='first')\n",
    "others_hist = plt.hist(others['prglngth'], bins=30, rwidth = 0.45, label = 'others')\n",
    "\n",
    "plt.xticks([0,30,35,40,45])\n",
    "plt.xlim([27,46])\n",
    "\n",
    "plt.title(\"Histograml of Pregnancy Length (First babies vs Other Lengths)\")\n",
    "plt.ylabel(\"frequency\")\n",
    "plt.xlabel(\"weeks\")\n",
    "\n",
    "plt.legend()\n",
    "plt.show()"
   ]
  },
  {
   "cell_type": "markdown",
   "id": "fa4cbbc1-0de5-44f8-b726-05ff79788c78",
   "metadata": {},
   "source": [
    "Histograms useful to immediately show most freq. values, but at least here it's difficult to compare with the smaller sample size of first babies compared to the others. \n",
    "\n",
    "Which is why we can address this problem using probability mass functions!"
   ]
  },
  {
   "cell_type": "markdown",
   "id": "a6db7464-5e1d-455f-ac98-02a2f447bded",
   "metadata": {
    "tags": []
   },
   "source": [
    "### 2.7 Summarizing distributions and Variance\n",
    "\n",
    "Further summarizing details of a histogram with some descriptive statistics\n",
    "* central tendency - do values tend to cluster around a particular point?\n",
    "* modes - is there more than one cluster?\n",
    "* spread - how much variability is there in the values?\n",
    "* tails - how quickly do probailities drop off as we move away from modes?\n",
    "* outliers - are there extreme values far from the modes?\n",
    "\n",
    "\n",
    "**TODO: Difference between Mean and Average formulas and context**\n",
    "\n",
    "Mean: If you have a sample of $n$ values, $x_{i}$, the mean, $\\hat{x}$, is the sum of the values divided by the number of values\n",
    "\n",
    "$$\\hat{x} = \\frac{1}{n} \\sum_{i} x_{i}$$"
   ]
  },
  {
   "cell_type": "code",
   "execution_count": 230,
   "id": "f536a217-57f8-4195-b13d-4f6e7124e750",
   "metadata": {},
   "outputs": [
    {
     "name": "stdout",
     "output_type": "stream",
     "text": [
      " mean: 38.56055968517709,\n",
      " var: 7.302662067826817,\n",
      " std: 2.702343810070587\n"
     ]
    }
   ],
   "source": [
    "# Pandas data structure provides methods for these:\n",
    "\n",
    "mean = live.prglngth.mean()\n",
    "var = live.prglngth.var()\n",
    "std = live.prglngth.std()\n",
    "\n",
    "print(\" mean: %s,\\n var: %s,\\n std: %s\" % (mean, var, std))"
   ]
  },
  {
   "cell_type": "markdown",
   "id": "7361282c-e399-4079-9a8a-a08c1776144f",
   "metadata": {},
   "source": [
    "Mean preg length is 38.6 weeks, with std of 2.7 weeks (so we expect deviations of 2-3 weeks)\n",
    "\n",
    "Var remember is unts^2, so may not be helpful sometimes"
   ]
  },
  {
   "cell_type": "code",
   "execution_count": 231,
   "id": "b8155d2c-b5fe-4e4a-a462-99fe0a4e742d",
   "metadata": {},
   "outputs": [
    {
     "data": {
      "text/plain": [
       "count    9148.000000\n",
       "mean       38.560560\n",
       "std         2.702344\n",
       "min         0.000000\n",
       "25%        39.000000\n",
       "50%        39.000000\n",
       "75%        39.000000\n",
       "max        50.000000\n",
       "Name: prglngth, dtype: float64"
      ]
     },
     "execution_count": 231,
     "metadata": {},
     "output_type": "execute_result"
    }
   ],
   "source": [
    "live.prglngth.describe()"
   ]
  },
  {
   "cell_type": "markdown",
   "id": "9c839a8a-6209-4600-9926-59fdd0f151c1",
   "metadata": {
    "tags": []
   },
   "source": [
    "### 2.9 Effect Size\n",
    "\n",
    "Convey the size of the effect by comparing the difference between groups to the variability within groups. Or describe the difference between two groups by difference in the means.\n",
    "\n",
    "Cohen's $d$ statistics: \n",
    "\n",
    "$$d = \\frac{ \\overline{x_{1}} - \\overline{x_{2}}}{s} $$"
   ]
  },
  {
   "cell_type": "code",
   "execution_count": 237,
   "id": "59879f4a-df38-4c28-9309-19f578c43adf",
   "metadata": {},
   "outputs": [],
   "source": [
    "def CohenEffectSize(group1, group2):\n",
    "    \"\"\"Computes Cohen's effect size for two groups.\n",
    "    \n",
    "    group1: Series or DataFrame\n",
    "    group2: Series or DataFrame\n",
    "    \n",
    "    returns: float if the arguments are Series;\n",
    "             Series if the arguments are DataFrames\n",
    "    \"\"\"\n",
    "    diff = group1.mean() - group2.mean()\n",
    "\n",
    "    var1 = group1.var()\n",
    "    var2 = group2.var()\n",
    "    n1, n2 = len(group1), len(group2)\n",
    "\n",
    "    pooled_var = (n1 * var1 + n2 * var2) / (n1 + n2)\n",
    "    d = diff / np.sqrt(pooled_var)\n",
    "    return d"
   ]
  },
  {
   "cell_type": "code",
   "execution_count": 239,
   "id": "4ced2443-6fc5-4261-8a8d-216eb91840e7",
   "metadata": {},
   "outputs": [
    {
     "data": {
      "text/plain": [
       "0.028879044654449834"
      ]
     },
     "execution_count": 239,
     "metadata": {},
     "output_type": "execute_result"
    }
   ],
   "source": [
    "CohenEffectSize(firsts.prglngth, others.prglngth)\n",
    "\n",
    "#difference in means is 0.029 std"
   ]
  },
  {
   "cell_type": "markdown",
   "id": "51f5349e-3b51-4767-82c3-3178b99604c3",
   "metadata": {},
   "source": [
    "**Reporting Results**\n",
    "\n",
    "Answer depends on who is asking the question. These differents might matter to a specific audiences trying to look at any (real) effect, no matter how small. Or someone else might need effects that are **clinically significant**"
   ]
  },
  {
   "cell_type": "markdown",
   "id": "7aaac845-ddfc-460a-89b3-43d80a2fed0d",
   "metadata": {
    "tags": []
   },
   "source": [
    "# Chapter 3: Probability Mass Functions"
   ]
  },
  {
   "cell_type": "markdown",
   "id": "7aae74c1-ce7d-4dcf-9539-4819bbc1e48e",
   "metadata": {
    "tags": []
   },
   "source": [
    "### 3.1 Pmfs\n",
    "\n",
    "representing distribution as probability mass function\n",
    "* maps each value to it's probability and divided by sample size(n) for normalization\n",
    "\n",
    "Exmaple for creating PMF for `birthwgt_lb`"
   ]
  },
  {
   "cell_type": "code",
   "execution_count": 270,
   "id": "25de9782-34a0-43b4-8470-38cfdafe4b72",
   "metadata": {},
   "outputs": [
    {
     "data": {
      "image/png": "[encoded data removed]",
      "text/plain": [
       "<Figure size 432x288 with 1 Axes>"
      ]
     },
     "metadata": {
      "needs_background": "light"
     },
     "output_type": "display_data"
    }
   ],
   "source": [
    "# dict of frequency\n",
    "\n",
    "birthwght_dict = dict()\n",
    "\n",
    "for elem in live.birthwgt_lb:\n",
    "    birthwght_dict[elem] = birthwght_dict.get(elem,0) + 1\n",
    "    \n",
    "plt.hist(live.birthwgt_lb, bins=30, rwidth=0.90)\n",
    "plt.xlabel(\"Birth weight (pounds)\")\n",
    "plt.show()"
   ]
  },
  {
   "cell_type": "code",
   "execution_count": 266,
   "id": "5559ea4e-e9e7-41cb-87fc-6bcffc957faa",
   "metadata": {},
   "outputs": [
    {
     "data": {
      "text/plain": [
       "9148"
      ]
     },
     "execution_count": 266,
     "metadata": {},
     "output_type": "execute_result"
    }
   ],
   "source": [
    "# from dict of frequencies, map for probability\n",
    "\n",
    "n = sum(birthwght_dict.values())\n",
    "birthwgt_pmf = {}\n",
    "\n",
    "for x, freq in birthwght_dict.items():\n",
    "    birthwgt_pmf[x] = freq /n\n",
    "    \n",
    "birthwgt_pmf \n",
    "n"
   ]
  },
  {
   "cell_type": "code",
   "execution_count": 269,
   "id": "7730e81f-a323-4209-a724-fb7fdfa1f461",
   "metadata": {},
   "outputs": [
    {
     "data": {
      "text/plain": [
       "<BarContainer object of 80 artists>"
      ]
     },
     "execution_count": 269,
     "metadata": {},
     "output_type": "execute_result"
    },
    {
     "data": {
      "image/png": "[encoded data removed]",
      "text/plain": [
       "<Figure size 432x288 with 1 Axes>"
      ]
     },
     "metadata": {
      "needs_background": "light"
     },
     "output_type": "display_data"
    }
   ],
   "source": [
    "plt.bar(birthwgt_pmf.keys(),birthwgt_pmf.values())"
   ]
  },
  {
   "cell_type": "markdown",
   "id": "ef1020b7-6df9-42eb-aa8e-8b63129c2507",
   "metadata": {},
   "source": [
    "### 3.2 Plotting PMFs\n",
    "\n",
    "By plotting PMFs instead of hist, we can compare two distrubutions without being misled by dif in sample size"
   ]
  },
  {
   "cell_type": "markdown",
   "id": "5cb59e2c-4eea-4caf-8bf2-6f235776fd91",
   "metadata": {},
   "source": [
    "Let's create PMF of pregnancy lengths for first babies and others, using bar graphs and step functions. \n",
    "\n",
    "this method is dependent on creating my own dictionaries instead of creating a new df.column with probaility frequencies if I were to make my own table of just value_counts for each value\n",
    "\n",
    "`prglngth`"
   ]
  },
  {
   "cell_type": "code",
   "execution_count": null,
   "id": "7366998a-b90a-4275-b1a9-45c3c5254629",
   "metadata": {},
   "outputs": [],
   "source": [
    "# Dict for pregnancy lengths for first babies\n",
    "\n",
    "first_d = dict()\n",
    "\n",
    "for x in firsts.prglngth: \n",
    "    first_d[x] = first_d.get(x,0) + 1\n",
    "\n",
    "print(\"Dictionary \\n\",first_d)\n",
    "\n",
    "#then create mapping for float-point probabilities\n",
    "n = sum(first_d.values())\n",
    "first_pmf = {}\n",
    "\n",
    "for x, freq in first_d.items():\n",
    "    first_pmf[x] = freq/n\n",
    "    \n",
    "print(\"PMF of First Babies \\n\",first_pmf)"
   ]
  },
  {
   "cell_type": "code",
   "execution_count": null,
   "id": "0826380f-cc5e-4c44-be27-2ccd5cf6ff79",
   "metadata": {},
   "outputs": [],
   "source": [
    "# Dict for pregnancy lengths for others babies\n",
    "\n",
    "other_d = dict()\n",
    "\n",
    "for x in others.prglngth: \n",
    "    other_d[x] = other_d.get(x,0) + 1\n",
    "\n",
    "print(\"Dictionary \\n\",other_d)\n",
    "\n",
    "#then create mapping for float-point probabilities\n",
    "others_n = sum(other_d.values())\n",
    "other_pmf = {}\n",
    "\n",
    "for x, freq in other_d.items():\n",
    "    other_pmf[x] = freq/others_n\n",
    "    \n",
    "print(\"PMF of 'Other' Babies \\n\",other_pmf)"
   ]
  },
  {
   "cell_type": "code",
   "execution_count": 314,
   "id": "65f8fc9c-2c0e-4a66-a294-b132cd6131e4",
   "metadata": {},
   "outputs": [],
   "source": [
    "#Another way to create PMF series\n",
    "\n",
    "pmf_others = others.prglngth.value_counts().sort_index() / len(others.prglngth)\n",
    "pmf_firsts = firsts.prglngth.value_counts().sort_index() / len(firsts.prglngth)"
   ]
  },
  {
   "cell_type": "markdown",
   "id": "eabf3943-98da-4408-b833-fa3652fe690b",
   "metadata": {},
   "source": [
    "Now, plot both PMFs!"
   ]
  },
  {
   "cell_type": "code",
   "execution_count": 326,
   "id": "e3b46da9-3036-456b-90e1-9833bbb5b284",
   "metadata": {},
   "outputs": [
    {
     "data": {
      "image/png": "[encoded data removed]",
      "text/plain": [
       "<Figure size 432x288 with 1 Axes>"
      ]
     },
     "metadata": {
      "needs_background": "light"
     },
     "output_type": "display_data"
    }
   ],
   "source": [
    "#Having to use ThinkStats method of dictionaries and plotting with bar graph\n",
    "\n",
    "plt.bar(list(first_pmf.keys()), first_pmf.values(), label=\"Firsts\")\n",
    "plt.bar(list(other_pmf.keys()), other_pmf.values(), label=\"Others\") \n",
    "\n",
    "plt.title(\"PMF of pregnancy lengths for first babies and others\")\n",
    "plt.legend()\n",
    "plt.show()"
   ]
  },
  {
   "cell_type": "code",
   "execution_count": 329,
   "id": "091e8e36-36ff-490d-aedd-4f7abb97cff0",
   "metadata": {},
   "outputs": [
    {
     "data": {
      "image/png": "[encoded data removed]",
      "text/plain": [
       "<Figure size 432x288 with 1 Axes>"
      ]
     },
     "metadata": {
      "needs_background": "light"
     },
     "output_type": "display_data"
    }
   ],
   "source": [
    "# Using my pandas series of frequencies with Hist plot\n",
    "\n",
    "pmf_firsts.plot(kind=\"bar\", label=\"Firsts\")\n",
    "pmf_others.plot(kind=\"bar\", label=\"Others\", color=\"orange\")\n",
    "\n",
    "plt.title(\"PMF of pregnancy lengths for first babies and others\")\n",
    "plt.legend()\n",
    "plt.show()"
   ]
  },
  {
   "cell_type": "code",
   "execution_count": 330,
   "id": "f24f82d9-d9f5-4247-9636-d8028bb79c55",
   "metadata": {},
   "outputs": [],
   "source": [
    "# Too hard to make step graph (ploting lines for PMF)"
   ]
  },
  {
   "cell_type": "markdown",
   "id": "5c3b4956-bcaa-4548-96cc-3fd9d2d4ba5a",
   "metadata": {
    "jp-MarkdownHeadingCollapsed": true,
    "tags": []
   },
   "source": [
    "# Chapter 4: Cumulative Distribution Functions"
   ]
  },
  {
   "cell_type": "markdown",
   "id": "1f545441-ba41-489e-a0a5-49ac01f966a8",
   "metadata": {
    "jp-MarkdownHeadingCollapsed": true,
    "tags": []
   },
   "source": [
    "## 4.1 Limits to PMFs\n",
    "\n",
    "PMFs work well if number of values is small. \n",
    "As num of values increase, the probability associated with each value gets smaller and effect of random noise increases.\n",
    "\n",
    "* Makes it hard to notice meaningful features\n",
    "\n",
    "Solution: Bin data, dividing the range of values into non-overlapping intervals and counting the num of values in each bin. "
   ]
  },
  {
   "cell_type": "markdown",
   "id": "9fe04cb3-34ef-4ce0-a59c-eed919c4b345",
   "metadata": {
    "tags": []
   },
   "source": [
    "## 4.2 Percentiles\n",
    "\n",
    "Exmaple: Standardized testing with a raw score and a percentile rank"
   ]
  },
  {
   "cell_type": "code",
   "execution_count": 332,
   "id": "3ecd3394-0cd6-437a-8e04-8d20c380fc83",
   "metadata": {},
   "outputs": [],
   "source": [
    "#function to compute Percentile Rank\n",
    "\n",
    "def PercentileRank(scores, your_score):\n",
    "    count = 0\n",
    "    for score in scores:\n",
    "        if score <= your_score:\n",
    "            count +=1\n",
    "    percentile_rank = 100.0 * (count / len(scores))"
   ]
  },
  {
   "cell_type": "markdown",
   "id": "1b1b6325-b301-4c3d-938a-f5918d3dcbab",
   "metadata": {},
   "source": [
    "Difference between `percentile` and `percentile_rank`\n",
    "* `PercentileRank` takes a value and compute its percentile rank in a set of values\n",
    "* `Percenitle` takes a percentile rank and compute the corresponding value"
   ]
  },
  {
   "cell_type": "markdown",
   "id": "d18bf69c-1e9f-4bec-8f7e-94f4b6ef0c80",
   "metadata": {},
   "source": [
    "## 4.3 CDFs\n",
    "\n",
    "Cumulative distribution function: maps from a value to its percentile rank.\n",
    "\n",
    "CDF(x) evaluates for a particular value of x the fraction of values in the distribution less than or equal to x."
   ]
  },
  {
   "cell_type": "code",
   "execution_count": 102,
   "id": "ecc6d0aa-4f6a-4e1d-aeec-d229570e785c",
   "metadata": {},
   "outputs": [],
   "source": [
    "def PercentileRank(scores, your_score):\n",
    "    count = 0\n",
    "    for score in scores:\n",
    "        if score <= your_score:\n",
    "            count += 1\n",
    "\n",
    "    percentile_rank = 100.0 * count / len(scores)\n",
    "    return percentile_rank\n",
    "\n",
    "def Percentile_scores(scores, percentile_rank):\n",
    "    \"\"\"\n",
    "    Args: scores is a Series\n",
    "    \n",
    "    returns: corresponding values to percentile\n",
    "    \"\"\"\n",
    "    scores.sort_values()\n",
    "    for score in scores:\n",
    "        if PercentileRank(scores, score) >= percentile_rank:\n",
    "            return score\n",
    "        \n",
    "def Percentile2(scores, percentile_rank):\n",
    "    scores.sort_values()\n",
    "    index = percentile_rank * (len(scores)-1) // 100\n",
    "    return scores[index]"
   ]
  },
  {
   "cell_type": "code",
   "execution_count": 68,
   "id": "6aacde4a-a1a6-4f9f-ae59-5dc00d4f48bc",
   "metadata": {},
   "outputs": [],
   "source": [
    "def EvalCdf(sample, x):\n",
    "    \"\"\"\n",
    "    Args: sample and CDF(X)\n",
    "    \n",
    "    returns: probaility in range 0-1 for CDF(x)\n",
    "    \"\"\"\n",
    "    \n",
    "    #get counts for all values less than or equal to x\n",
    "    count = 0.0\n",
    "    for value in sample:\n",
    "        if value <= x:\n",
    "            count+=1\n",
    "    \n",
    "    # return probability \n",
    "    prob = count / len(sample)\n",
    "    return prob\n",
    "    #will provide a probability in the range of 0-1"
   ]
  },
  {
   "cell_type": "markdown",
   "id": "d0450c22-d995-4b3c-bcc6-ff9f63a42dbc",
   "metadata": {
    "tags": []
   },
   "source": [
    "## 4.4 Representing CDFs\n",
    "\n",
    "Going through all I've learned so far with Distributions to create a Cumulative Density Function for Live Birth Prengnacy Lengths in weeks. "
   ]
  },
  {
   "cell_type": "code",
   "execution_count": 4,
   "id": "5f181eac-6ed0-4043-a4ce-63be61dc7792",
   "metadata": {},
   "outputs": [],
   "source": [
    "# Re-load data\n",
    "preg = nsfg.ReadFemPreg()\n",
    "\n",
    "live = preg[preg.outcome == 1]\n",
    "firsts = live[live.birthord == 1]\n",
    "others = live[live.birthord != 1]\n",
    "\n",
    "assert len(live) == 9148\n",
    "assert len(firsts) == 4413\n",
    "assert len(others) == 4735"
   ]
  },
  {
   "cell_type": "markdown",
   "id": "5fbe1bdb-7ca0-4d93-9ba4-1323b3c55949",
   "metadata": {},
   "source": [
    "Using dictionaries, created a histogram for frequencies of `prglngth`"
   ]
  },
  {
   "cell_type": "code",
   "execution_count": 5,
   "id": "cd7a0059-0619-483e-a87b-c5e11820519b",
   "metadata": {},
   "outputs": [
    {
     "data": {
      "image/png": "[encoded data removed]",
      "text/plain": [
       "<Figure size 432x288 with 1 Axes>"
      ]
     },
     "metadata": {
      "needs_background": "light"
     },
     "output_type": "display_data"
    }
   ],
   "source": [
    "# dict of frequency\n",
    "\n",
    "prglngth_hist = dict()\n",
    "\n",
    "for elem in live.prglngth:\n",
    "    prglngth_hist[elem] = prglngth_hist.get(elem,0) + 1\n",
    "\n",
    "#checking values\n",
    "plt.bar(list(prglngth_hist.keys()), prglngth_hist.values(), label=\"Prg Lengths\")\n",
    "plt.title(\"Prglngth Hist\")\n",
    "plt.show()\n",
    "\n",
    "#if neededing specific numbers\n",
    "#live.prglngth.value_counts().sort_index()"
   ]
  },
  {
   "cell_type": "markdown",
   "id": "a97a2e82-33cd-48eb-b5b8-6476b314965a",
   "metadata": {},
   "source": [
    "From this dictionary of frequencies, map freq values to their probability from 0-1"
   ]
  },
  {
   "cell_type": "code",
   "execution_count": 9,
   "id": "7b2334fd-dc27-4546-88d6-6fcdd4e94243",
   "metadata": {},
   "outputs": [
    {
     "name": "stdout",
     "output_type": "stream",
     "text": [
      "0.9999999999999997\n"
     ]
    },
    {
     "data": {
      "image/png": "[encoded data removed]",
      "text/plain": [
       "<Figure size 432x288 with 1 Axes>"
      ]
     },
     "metadata": {
      "needs_background": "light"
     },
     "output_type": "display_data"
    }
   ],
   "source": [
    "# from dict of frequencies, map for probability\n",
    "\n",
    "Y = sum(prglngth_hist.values())\n",
    "prglngth_pmf = {}\n",
    "\n",
    "for x, freq in prglngth_hist.items():\n",
    "    prglngth_pmf[x] = freq /Y\n",
    "    \n",
    "print(sum(prglngth_pmf.values()))\n",
    "\n",
    "plt.bar(list(prglngth_pmf.keys()), prglngth_pmf.values(), label=\"Prg Lengths\")\n",
    "plt.title(\"Prglngth PMF\")\n",
    "plt.show()\n"
   ]
  },
  {
   "cell_type": "markdown",
   "id": "00a1bc05-2d14-4beb-a639-1a1a14f72859",
   "metadata": {},
   "source": [
    "Creating CDF where range is 0-1.\n",
    "\n",
    "Using numpy for CDF."
   ]
  },
  {
   "cell_type": "markdown",
   "id": "9acb1bb4-f7fd-4af1-90d2-7dd52250ec12",
   "metadata": {},
   "source": [
    "* Compute the number of data points, n, using the len() function.\n",
    "* The x-values are the sorted data. Use the np.sort() function to perform the sorting.\n",
    "* The y data of the ECDF go from 1/n to 1 in equally spaced increments. You can construct this using np.arange(). Remember, however, that the end value in np.arange() is not inclusive. Therefore, np.arange() will need to go from 1 to n+1. Be sure to divide this by n.\n",
    "* The function returns the values x and y."
   ]
  },
  {
   "cell_type": "code",
   "execution_count": 10,
   "id": "597cca06-b8ce-4d90-bd56-f860fdb2c505",
   "metadata": {},
   "outputs": [
    {
     "data": {
      "image/png": "[encoded data removed]",
      "text/plain": [
       "<Figure size 432x288 with 1 Axes>"
      ]
     },
     "metadata": {
      "needs_background": "light"
     },
     "output_type": "display_data"
    }
   ],
   "source": [
    "prglngth_x = np.sort(live.prglngth)\n",
    "prglngth_y = np.arange(1, len(prglngth_x)+1) / len(prglngth_x)\n",
    "\n",
    "plt.plot(prglngth_x, prglngth_y, label=\"prglngth\")\n",
    "\n",
    "\n",
    "plt.annotate('94% of births had <= 41 weeks of pregnancy length', xy=(41, .94),xytext=(40, 0.1), fontsize=10, arrowprops=dict(arrowstyle=\"->\", color='b'))\n",
    "\n",
    "plt.title(\"CDF of Pregnancy length (weeks) for Live Births\")\n",
    "plt.xlabel(\"Pregnancy lengths (weeks)\")\n",
    "plt.ylabel(\"CDF\")\n",
    "plt.legend(loc= \"upper left\")\n",
    "\n",
    "plt.show()"
   ]
  },
  {
   "cell_type": "code",
   "execution_count": 13,
   "id": "139e3161-3df7-4cc4-a45d-34391e50045c",
   "metadata": {},
   "outputs": [],
   "source": [
    "def cdf(sample, label=None):\n",
    "    x = np.sort(sample)\n",
    "    y = 1 * np.arange(len(sample)) / (len(sample) - 1)\n",
    "    plt.plot(x, y, label=label)"
   ]
  },
  {
   "cell_type": "markdown",
   "id": "80e70207-b0cd-4d06-903d-f324dbd9a0aa",
   "metadata": {},
   "source": [
    "Find probability given a value. Prglngth at 41 weeks"
   ]
  },
  {
   "cell_type": "code",
   "execution_count": 69,
   "id": "c62cc6df-9be3-49c6-9353-699d7892d334",
   "metadata": {},
   "outputs": [
    {
     "data": {
      "text/plain": [
       "0.9406427634455619"
      ]
     },
     "execution_count": 69,
     "metadata": {},
     "output_type": "execute_result"
    }
   ],
   "source": [
    "EvalCdf(live.prglngth, 41)"
   ]
  },
  {
   "cell_type": "markdown",
   "id": "6048ef0d-c2d8-48a3-bec6-6ecf46f50db0",
   "metadata": {},
   "source": [
    "Find the corresponding value given a fraction. Evlautating the inverse CDF at median for 0.5"
   ]
  },
  {
   "cell_type": "code",
   "execution_count": 103,
   "id": "fa60786b-6437-421a-a184-6ac0c12c332a",
   "metadata": {},
   "outputs": [
    {
     "data": {
      "text/plain": [
       "39"
      ]
     },
     "execution_count": 103,
     "metadata": {},
     "output_type": "execute_result"
    }
   ],
   "source": [
    "Percentile_scores(live.prglngth, 0.5)"
   ]
  },
  {
   "cell_type": "markdown",
   "id": "f8362591-2671-4976-9aee-94bdb6f68e29",
   "metadata": {},
   "source": [
    "TODO: Will need to look into better ways or methods to get CDF values and probabilities. but the math is here and enough to keep moving. "
   ]
  },
  {
   "cell_type": "code",
   "execution_count": 117,
   "id": "9242613f-08da-4b6f-b1a0-79bde336ee3d",
   "metadata": {},
   "outputs": [
    {
     "data": {
      "image/png": "[encoded data removed]",
      "text/plain": [
       "<Figure size 432x288 with 1 Axes>"
      ]
     },
     "metadata": {
      "needs_background": "light"
     },
     "output_type": "display_data"
    }
   ],
   "source": [
    "cdf(firsts.totalwgt_lb, \"first\")\n",
    "cdf(others.totalwgt_lb, \"others\")\n",
    "\n",
    "plt.title(\"CDF of Birth Weights (pounds) of Firsts vs Other Babies\")\n",
    "plt.xlabel(\"Weight(pounds)\")\n",
    "plt.legend()\n",
    "plt.show()"
   ]
  },
  {
   "cell_type": "markdown",
   "id": "bce878de-c979-4e0e-8f04-d54080b5a9d2",
   "metadata": {},
   "source": [
    "In this exmaple, first babies are slightly, but consistenly, lighter than others."
   ]
  },
  {
   "cell_type": "markdown",
   "id": "3b9f736a-81e3-4e36-a321-d9975653baa3",
   "metadata": {},
   "source": [
    "### 4.6 Percentile-based statistics\n",
    "\n",
    "After computing CDF, easy to compute percentile rank and percentiles for percentile-based summary statistics"
   ]
  },
  {
   "cell_type": "markdown",
   "id": "d5623620-2dbe-4a7d-956c-a64d48575f4e",
   "metadata": {
    "tags": []
   },
   "source": [
    "### 4.7 Random numbers"
   ]
  },
  {
   "cell_type": "code",
   "execution_count": null,
   "id": "3475bc28-5ce8-41f7-9def-41a0a0b9fd37",
   "metadata": {},
   "outputs": [],
   "source": []
  },
  {
   "cell_type": "markdown",
   "id": "f494b46a-bfd7-45f7-9ceb-00a875424f92",
   "metadata": {
    "jp-MarkdownHeadingCollapsed": true,
    "tags": []
   },
   "source": [
    "# Chapter 5 Modeling Distributions"
   ]
  },
  {
   "cell_type": "markdown",
   "id": "fdbd04dd-420a-4914-9a29-ea6b27028581",
   "metadata": {},
   "source": [
    "So far we used empirical distributions based on empirical observations (finite samples). \n",
    "\n",
    "**Analytics Distribution** are used to model empirical distributions. \n",
    "* model - simplification that leaves out uneeded details"
   ]
  },
  {
   "cell_type": "markdown",
   "id": "2f380e17-c8e6-4552-874e-4582285f9d92",
   "metadata": {
    "tags": []
   },
   "source": [
    "## 5.1 Exponential Distribution"
   ]
  },
  {
   "cell_type": "markdown",
   "id": "f2b5b0d2-231d-407e-b85f-468e32e03307",
   "metadata": {},
   "source": [
    "Calculate my own exponential distribution.\n",
    "\n",
    "Resource: https://www.youtube.com/watch?v=g3viPcoykig&t=319s"
   ]
  },
  {
   "cell_type": "code",
   "execution_count": null,
   "id": "c7c23043-ea5b-466b-93cf-a2446211d6e2",
   "metadata": {},
   "outputs": [
    {
     "data": {
      "text/plain": [
       "array([0.27067057, 0.03663128, 0.0049575 ])"
      ]
     },
     "execution_count": 10,
     "metadata": {},
     "output_type": "execute_result"
    }
   ],
   "source": [
    "def exponential_pdf(x,lam):\n",
    "    return lam * np.exp(-lam * x)\n",
    "\n",
    "exponential_pdf(np.array([1,2,3]), 2)"
   ]
  },
  {
   "cell_type": "code",
   "execution_count": null,
   "id": "433a6ea0-cb27-4744-9a5a-d4c9115c1389",
   "metadata": {},
   "outputs": [],
   "source": [
    "def exponential_cdf(x, lam):\n",
    "    return 1 - np.exp(-lam *x)"
   ]
  },
  {
   "cell_type": "code",
   "execution_count": 159,
   "id": "8fca862c-5d31-4a5f-a1a4-7da9c67d3821",
   "metadata": {},
   "outputs": [
    {
     "data": {
      "image/png": "[encoded data removed]",
      "text/plain": [
       "<Figure size 720x360 with 1 Axes>"
      ]
     },
     "metadata": {
      "needs_background": "light"
     },
     "output_type": "display_data"
    }
   ],
   "source": [
    "x = np.linspace(0,5,1000)\n",
    "fig, ax = plt.subplots(figsize=(10,5))\n",
    "ax.plot(x, exponential_pdf(x,1), label=\"Exponential PDF\")\n",
    "plt.show()"
   ]
  },
  {
   "cell_type": "markdown",
   "id": "12442d7d-ad02-47b5-87f3-b757de94e06d",
   "metadata": {},
   "source": [
    "Writing out cdf function"
   ]
  },
  {
   "cell_type": "markdown",
   "id": "f90148ae-471b-4da4-97ee-24b6383dfded",
   "metadata": {},
   "source": [
    "$$CDF(x) = 1 − e−λx$$"
   ]
  },
  {
   "cell_type": "code",
   "execution_count": null,
   "id": "e51f1b16-6b5e-4090-9273-bf240868d0d8",
   "metadata": {},
   "outputs": [
    {
     "data": {
      "image/png": "[encoded data removed]",
      "text/plain": [
       "<Figure size 720x360 with 1 Axes>"
      ]
     },
     "metadata": {
      "needs_background": "light"
     },
     "output_type": "display_data"
    }
   ],
   "source": [
    "x = np.linspace(0,5,1000)\n",
    "fig, ax = plt.subplots(figsize=(10,5))\n",
    "ax.plot(x, exponential_cdf(x,1))\n",
    "plt.show()"
   ]
  },
  {
   "cell_type": "markdown",
   "id": "ed178a72-5040-4eb1-ba2e-3d43922dfc1a",
   "metadata": {},
   "source": [
    "Exponential Distribution using `from scipy.stats import expon`"
   ]
  },
  {
   "cell_type": "code",
   "execution_count": null,
   "id": "53c0ed20-b05d-4380-814d-2440622a6ea8",
   "metadata": {},
   "outputs": [
    {
     "data": {
      "text/plain": [
       "array([0.27067057, 0.03663128, 0.0049575 ])"
      ]
     },
     "execution_count": 9,
     "metadata": {},
     "output_type": "execute_result"
    }
   ],
   "source": [
    "#using expon. Careful: Scale in mu = 1/lambda\n",
    "\n",
    "x = np.array([1,2,3])\n",
    "expon.pdf(x, loc=0,scale=1/2)"
   ]
  },
  {
   "cell_type": "code",
   "execution_count": null,
   "id": "38f2b4e2-46ef-4de2-a7ca-2cbe6b58a44a",
   "metadata": {},
   "outputs": [
    {
     "data": {
      "image/png": "[encoded data removed]",
      "text/plain": [
       "<Figure size 720x360 with 1 Axes>"
      ]
     },
     "metadata": {
      "needs_background": "light"
     },
     "output_type": "display_data"
    }
   ],
   "source": [
    "x = np.linspace(0,5,1000)\n",
    "fig, ax = plt.subplots(figsize=(10,5))\n",
    "ax.plot(x, expon.pdf(x,loc=0,scale=1))\n",
    "plt.show()"
   ]
  },
  {
   "cell_type": "code",
   "execution_count": null,
   "id": "43731e54-954e-4c41-bb45-edac01c7bef5",
   "metadata": {},
   "outputs": [
    {
     "data": {
      "image/png": "[encoded data removed]",
      "text/plain": [
       "<Figure size 720x360 with 1 Axes>"
      ]
     },
     "metadata": {
      "needs_background": "light"
     },
     "output_type": "display_data"
    }
   ],
   "source": [
    "x = np.linspace(0,5,1000)\n",
    "fig, ax = plt.subplots(figsize=(10,5))\n",
    "ax.plot(x, expon.cdf(x,loc=0, scale=1))\n",
    "plt.show()"
   ]
  },
  {
   "cell_type": "markdown",
   "id": "6a3d9d00-601c-4be3-95ae-1e4c8bc77bb5",
   "metadata": {},
   "source": [
    "Creating exponential random variates for a histogram, and fitting an exponential histogram"
   ]
  },
  {
   "cell_type": "code",
   "execution_count": null,
   "id": "d5758a7e-e98a-46a0-bd8e-05d01af359db",
   "metadata": {},
   "outputs": [
    {
     "data": {
      "image/png": "[encoded data removed]",
      "text/plain": [
       "<Figure size 1152x432 with 1 Axes>"
      ]
     },
     "metadata": {
      "needs_background": "light"
     },
     "output_type": "display_data"
    }
   ],
   "source": [
    "#creating random variates from scipy.exp\n",
    "\n",
    "x_rvs = expon.rvs(loc=0, scale=1, size=10000, random_state=3)\n",
    "\n",
    "fig,ax = plt.subplots(figsize=(16,6))\n",
    "ax.hist(x_rvs, bins=1000)\n",
    "plt.show()"
   ]
  },
  {
   "cell_type": "code",
   "execution_count": null,
   "id": "b891d9bc-7753-43d3-b9c1-65be5920ab92",
   "metadata": {},
   "outputs": [],
   "source": [
    "loc, scale = expon.fit(x_rvs)"
   ]
  },
  {
   "cell_type": "code",
   "execution_count": null,
   "id": "8076853b-9c21-4e1d-bdd1-150454eb39d5",
   "metadata": {},
   "outputs": [
    {
     "data": {
      "image/png": "[encoded data removed]",
      "text/plain": [
       "<Figure size 1152x432 with 1 Axes>"
      ]
     },
     "metadata": {
      "needs_background": "light"
     },
     "output_type": "display_data"
    }
   ],
   "source": [
    "x = np.linspace(0,14,1000)\n",
    "fig,ax = plt.subplots(figsize=(16,6))\n",
    "ax.hist(x_rvs,bins=1000, density=True)\n",
    "ax.plot(x,expon.pdf(x, loc=loc, scale=scale), lw=3)\n",
    "plt.show()"
   ]
  },
  {
   "cell_type": "code",
   "execution_count": null,
   "id": "fbe6d73c-0e84-45c1-adc9-73fd1da3fa7b",
   "metadata": {},
   "outputs": [
    {
     "name": "stdout",
     "output_type": "stream",
     "text": [
      "0.9876482168373847\n",
      "0.6845900985922615\n",
      "0.9754198929651927\n",
      "0.9876334810875909\n"
     ]
    }
   ],
   "source": [
    "print(expon.mean(loc=loc, scale=scale))\n",
    "print(expon.median(loc=loc, scale=scale))\n",
    "print(expon.var(loc=loc, scale=scale))\n",
    "print(expon.std(loc=loc, scale=scale))"
   ]
  },
  {
   "cell_type": "markdown",
   "id": "72be1f74-bc0f-40db-bd47-837c52cb71d5",
   "metadata": {},
   "source": [
    "**Thinkstats stuff** "
   ]
  },
  {
   "cell_type": "code",
   "execution_count": null,
   "id": "a5f785e4-70cc-4bee-9ae6-139117bf0e41",
   "metadata": {},
   "outputs": [
    {
     "data": {
      "image/png": "[encoded data removed]",
      "text/plain": [
       "<Figure size 432x288 with 1 Axes>"
      ]
     },
     "metadata": {
      "needs_background": "light"
     },
     "output_type": "display_data"
    }
   ],
   "source": [
    "df = analytic.ReadBabyBoom()\n",
    "diffs = df.minutes.diff()\n",
    "cdf = thinkstats2.Cdf(diffs, label='actual')\n",
    "\n",
    "thinkplot.Cdf(cdf)\n",
    "thinkplot.Config(xlabel='Time between births (minutes)', ylabel='CDF')"
   ]
  },
  {
   "cell_type": "code",
   "execution_count": null,
   "id": "22dd09af-58db-4ee9-86d2-9b48c84700aa",
   "metadata": {},
   "outputs": [
    {
     "data": {
      "text/html": [
       "<div>\n",
       "<style scoped>\n",
       "    .dataframe tbody tr th:only-of-type {\n",
       "        vertical-align: middle;\n",
       "    }\n",
       "\n",
       "    .dataframe tbody tr th {\n",
       "        vertical-align: top;\n",
       "    }\n",
       "\n",
       "    .dataframe thead th {\n",
       "        text-align: right;\n",
       "    }\n",
       "</style>\n",
       "<table border=\"1\" class=\"dataframe\">\n",
       "  <thead>\n",
       "    <tr style=\"text-align: right;\">\n",
       "      <th></th>\n",
       "      <th>time</th>\n",
       "      <th>sex</th>\n",
       "      <th>weight_g</th>\n",
       "      <th>minutes</th>\n",
       "    </tr>\n",
       "  </thead>\n",
       "  <tbody>\n",
       "    <tr>\n",
       "      <th>0</th>\n",
       "      <td>5</td>\n",
       "      <td>1</td>\n",
       "      <td>3837</td>\n",
       "      <td>5</td>\n",
       "    </tr>\n",
       "    <tr>\n",
       "      <th>1</th>\n",
       "      <td>104</td>\n",
       "      <td>1</td>\n",
       "      <td>3334</td>\n",
       "      <td>64</td>\n",
       "    </tr>\n",
       "    <tr>\n",
       "      <th>2</th>\n",
       "      <td>118</td>\n",
       "      <td>2</td>\n",
       "      <td>3554</td>\n",
       "      <td>78</td>\n",
       "    </tr>\n",
       "    <tr>\n",
       "      <th>3</th>\n",
       "      <td>155</td>\n",
       "      <td>2</td>\n",
       "      <td>3838</td>\n",
       "      <td>115</td>\n",
       "    </tr>\n",
       "    <tr>\n",
       "      <th>4</th>\n",
       "      <td>257</td>\n",
       "      <td>2</td>\n",
       "      <td>3625</td>\n",
       "      <td>177</td>\n",
       "    </tr>\n",
       "  </tbody>\n",
       "</table>\n",
       "</div>"
      ],
      "text/plain": [
       "   time  sex  weight_g  minutes\n",
       "0     5    1      3837        5\n",
       "1   104    1      3334       64\n",
       "2   118    2      3554       78\n",
       "3   155    2      3838      115\n",
       "4   257    2      3625      177"
      ]
     },
     "execution_count": 34,
     "metadata": {},
     "output_type": "execute_result"
    }
   ],
   "source": [
    "df.head()"
   ]
  },
  {
   "cell_type": "markdown",
   "id": "32e6c33a-5b7c-4195-8936-8e21f5ff1f02",
   "metadata": {},
   "source": [
    "In exponential distribution, we can think of probability as the interarrival times inbetween births for probability of baby births by minutes at this hospital.\n",
    "\n",
    "* minutes: time of birth converted to minutes since midnight"
   ]
  },
  {
   "cell_type": "code",
   "execution_count": null,
   "id": "e57e8bfa-32bc-4cbe-8834-ff49bde65621",
   "metadata": {},
   "outputs": [],
   "source": [
    "#difference between consecutive birth times\n",
    "diffs = df.minutes.diff().sort_values().fillna(0.0)"
   ]
  },
  {
   "cell_type": "code",
   "execution_count": null,
   "id": "e9ea348c-bd85-45fb-a500-3e065a50b9ff",
   "metadata": {},
   "outputs": [
    {
     "name": "stderr",
     "output_type": "stream",
     "text": [
      "/var/folders/nd/2hwdbgt95fv2qql2n5f1y09c0000gn/T/ipykernel_1508/133335088.py:6: VisibleDeprecationWarning: Passing `normed=True` on non-uniform bins has always been broken, and computes neither the probability density function nor the probability mass function. The result is only correct if the bins are uniform, when density=True will produce the same result anyway. The argument will be removed in a future version of numpy.\n",
      "  H,X1 = np.histogram( diffs, normed = True )\n"
     ]
    },
    {
     "data": {
      "image/png": "[encoded data removed]",
      "text/plain": [
       "<Figure size 432x288 with 1 Axes>"
      ]
     },
     "metadata": {
      "needs_background": "light"
     },
     "output_type": "display_data"
    }
   ],
   "source": [
    "# Create CDF (from stackoverflow)\n",
    "\n",
    "N = len(diffs)\n",
    "\n",
    "# method 1\n",
    "H,X1 = np.histogram( diffs, normed = True )\n",
    "dx = X1[1] - X1[0]\n",
    "F1 = np.cumsum(H)*dx\n",
    "#method 2\n",
    "X2 = np.sort(diffs)\n",
    "F2 = np.array(range(N))/float(N)\n",
    "\n",
    "plt.plot(X1[1:], F1)\n",
    "plt.plot(X2, F2)\n",
    "plt.show()"
   ]
  },
  {
   "cell_type": "code",
   "execution_count": null,
   "id": "db22f016-16f3-4540-a22a-d349ec656a0c",
   "metadata": {},
   "outputs": [
    {
     "data": {
      "image/png": "[encoded data removed]",
      "text/plain": [
       "<Figure size 432x288 with 1 Axes>"
      ]
     },
     "metadata": {
      "needs_background": "light"
     },
     "output_type": "display_data"
    }
   ],
   "source": [
    "#My CDF code from previous for the Actual CDF, and above displaying actual with model. \n",
    "\n",
    "bx = np.sort(diffs)\n",
    "by = np.arange(1, len(bx)+1) / len(bx)\n",
    "\n",
    "plt.plot(bx, by, label='actual')\n",
    "\n",
    "plt.xlabel('Time between births (minutes)')\n",
    "plt.ylabel('CDF')\n",
    "plt.legend()\n",
    "plt.show()"
   ]
  },
  {
   "cell_type": "markdown",
   "id": "b18bd1b6-c032-497a-91bd-593dde679855",
   "metadata": {},
   "source": [
    "Create Exponential Distribution for interrarival birth times from actual data is proving difficult to create log-y scale for my variables. But in an exponential model, it is possible, just doesn't look very good with this small data.\n",
    "\n",
    "Understand that lmbda is interpreted as the rate (num of events that occur) on average in a unit of time in this exmaple. 44 babies are born in 24 hours, so the rate is lambda = 0.0306 births per minute. The mean of an exponential distribution is 1/lambda, so the mean time between births if 32.7 minutes. "
   ]
  },
  {
   "cell_type": "markdown",
   "id": "2124af54-1691-46c4-a161-90d4cd3c9710",
   "metadata": {
    "tags": []
   },
   "source": [
    "## 5.2 Normal Distribution"
   ]
  },
  {
   "cell_type": "markdown",
   "id": "fb54e033-c860-4f42-9982-2c6f030ee0c6",
   "metadata": {
    "tags": []
   },
   "source": [
    "### Normal distribution\n",
    "Using scipy stats and numpy for probability distributions\n",
    "\n",
    "resource: https://levelup.gitconnected.com/probability-distributions-using-scipy-58fdab53d7ac"
   ]
  },
  {
   "cell_type": "code",
   "execution_count": 112,
   "id": "444ec637-9062-4f4d-8d3f-b21fed12f126",
   "metadata": {},
   "outputs": [
    {
     "data": {
      "image/png": "[encoded data removed]",
      "text/plain": [
       "<Figure size 432x288 with 1 Axes>"
      ]
     },
     "metadata": {
      "needs_background": "light"
     },
     "output_type": "display_data"
    }
   ],
   "source": [
    "# Continuous Distributions\n",
    "\n",
    "# creating instance of stats.norm class and initialize object with mean = 100 and std = 15\n",
    "normal = stats.norm(loc=100, scale=15)\n",
    "\n",
    "#generate random sample with 1000 random numbers and reproducible random results\n",
    "normal_sample = normal.rvs(size=1000, random_state=123)\n",
    "plt.hist(normal_sample, density=True, label=\"Sample\")\n",
    "plt.title(\"Normal Distribution\")\n",
    "plt.ylabel(\"Density\")\n",
    "plt.legend()\n",
    "plt.show()"
   ]
  },
  {
   "cell_type": "code",
   "execution_count": 107,
   "id": "87744bf1-37b7-4caa-ab8d-aafa529c9fec",
   "metadata": {},
   "outputs": [
    {
     "name": "stdout",
     "output_type": "stream",
     "text": [
      "0.010934004978399577\n",
      "[0.010934   0.0035994  0.00075973]\n"
     ]
    }
   ],
   "source": [
    "#Proability Density Function\n",
    "\n",
    "#able to access PDF method\n",
    "print(normal.pdf(120))\n",
    "print(normal.pdf([120,130,140]))"
   ]
  },
  {
   "cell_type": "markdown",
   "id": "14f17df7-b614-46f3-9c96-c98279eb19f8",
   "metadata": {},
   "source": [
    "Plotting PDF\n",
    "\n",
    "Need to create values for horizontal axis with `np.linespace` for eqully num spaced numbers between `start` and `end`. "
   ]
  },
  {
   "cell_type": "code",
   "execution_count": 169,
   "id": "14f191ad-8427-485d-ab0a-8ec4100b77d4",
   "metadata": {},
   "outputs": [
    {
     "data": {
      "image/png": "[encoded data removed]",
      "text/plain": [
       "<Figure size 432x288 with 1 Axes>"
      ]
     },
     "metadata": {
      "needs_background": "light"
     },
     "output_type": "display_data"
    }
   ],
   "source": [
    "#create values for horizontal axis\n",
    "t = np.linspace(50,150,100)\n",
    "\n",
    "#Plt with vertical(y) values from `normal.pdf(t)`\n",
    "plt.plot(t, normal.pdf(t),label='PDf')\n",
    "\n",
    "plt.legend()\n",
    "plt.show()"
   ]
  },
  {
   "cell_type": "code",
   "execution_count": 170,
   "id": "b4c8f6d9-e614-4920-b5fc-8bf3753617cc",
   "metadata": {},
   "outputs": [
    {
     "data": {
      "image/png": "[encoded data removed]",
      "text/plain": [
       "<Figure size 432x288 with 1 Axes>"
      ]
     },
     "metadata": {
      "needs_background": "light"
     },
     "output_type": "display_data"
    }
   ],
   "source": [
    "plt.plot(t, normal.pdf(t),label='pdf', color='orange')\n",
    "plt.hist(normal_sample, density=True, label=\"Sample\")\n",
    "\n",
    "plt.title(\"Histogram of a sample from the normal distribution and corresponding PDF\")\n",
    "plt.legend()\n",
    "plt.show()"
   ]
  },
  {
   "cell_type": "markdown",
   "id": "bd708f8e-5e95-43d8-ac4f-6a7a78cf33e2",
   "metadata": {
    "tags": []
   },
   "source": [
    "### Normal Cumulative Distribution Function (Normal CDF) for Birth weights from NSFG\n",
    "\n",
    "Focusing on the abserved CDF and model. Model ends up fitting data well except in the left tail. "
   ]
  },
  {
   "cell_type": "code",
   "execution_count": 136,
   "id": "eb95715d-b2e6-4b42-add5-c071d60016a3",
   "metadata": {},
   "outputs": [],
   "source": [
    "preg = nsfg.ReadFemPreg()\n",
    "weights = preg.totalwgt_lb.dropna()"
   ]
  },
  {
   "cell_type": "code",
   "execution_count": 137,
   "id": "c1ad5fd1-91ac-400d-bbdb-ea06cf4713d7",
   "metadata": {},
   "outputs": [
    {
     "data": {
      "image/png": "[encoded data removed]",
      "text/plain": [
       "<Figure size 432x288 with 1 Axes>"
      ]
     },
     "metadata": {
      "needs_background": "light"
     },
     "output_type": "display_data"
    }
   ],
   "source": [
    "plt.hist(weights)\n",
    "plt.show()"
   ]
  },
  {
   "cell_type": "code",
   "execution_count": 152,
   "id": "bcfcbeaa-108f-406c-b61a-413667395343",
   "metadata": {},
   "outputs": [],
   "source": [
    "#Preparing for the model\n",
    "\n",
    "#trim largest and smallest elements of weights\n",
    "p=0.01\n",
    "weight_n = int(p*len(weights))\n",
    "tw = sorted(weights)[weight_n:-weight_n]\n"
   ]
  },
  {
   "cell_type": "code",
   "execution_count": 143,
   "id": "dab44899-ac68-4495-b796-43802d0061ad",
   "metadata": {},
   "outputs": [],
   "source": [
    "#compute mean and variance of a sequence of numbers\n",
    "\n",
    "ddof = 0 #delta degree of freedom\n",
    "tw = np.asarray(tw)\n",
    "mean = tw.mean()\n",
    "\n",
    "ds = tw - mean\n",
    "var = np.dot(ds,ds) / len(tw) - ddof\n",
    "\n",
    "sigma = np.sqrt(var)"
   ]
  },
  {
   "cell_type": "code",
   "execution_count": 160,
   "id": "35a93238-0314-495b-a16b-cd901abc2fde",
   "metadata": {},
   "outputs": [
    {
     "data": {
      "image/png": "[encoded data removed]",
      "text/plain": [
       "<Figure size 432x288 with 1 Axes>"
      ]
     },
     "metadata": {
      "needs_background": "light"
     },
     "output_type": "display_data"
    }
   ],
   "source": [
    "#plot model \n",
    "\n",
    "w_x = np.linspace(0, 12.5, 101)\n",
    "w_p = stats.norm.cdf(w_x, mean, sigma)\n",
    "\n",
    "plt.plot(w_x, w_p, label='model')\n",
    "\n",
    "# Plot the data\n",
    "wx = np.sort(weights)\n",
    "wy = np.arange(1, len(wx)+1) / len(wx)\n",
    "\n",
    "plt.plot(wx, wy, label='actual')\n",
    "\n",
    "plt.title('Normal CDF for Birth Weights')\n",
    "plt.xlabel(\"Birth weight (pounds)\")\n",
    "plt.ylabel('CDF')\n",
    "plt.legend()\n",
    "plt.show()"
   ]
  },
  {
   "cell_type": "markdown",
   "id": "cf56fb10-5410-42f3-a71f-1a6da01035d3",
   "metadata": {
    "tags": []
   },
   "source": [
    "## Why Model?\n",
    "\n",
    "* Found preferencital attachment interesting\n",
    "* Excercises were cool, would be good to go back to go further if I wanted to after finishing this book"
   ]
  },
  {
   "cell_type": "markdown",
   "id": "7544f3e8-2ed7-48d6-aab7-e2c14c8490f1",
   "metadata": {
    "jp-MarkdownHeadingCollapsed": true,
    "tags": []
   },
   "source": [
    "# Chapter 6 Probability Density Functions"
   ]
  },
  {
   "cell_type": "markdown",
   "id": "ae501ff1-c244-4196-a3d4-e2b8f06a9427",
   "metadata": {},
   "source": [
    "## 6.1 PDFs\n",
    "\n",
    "(Probability density function)\n",
    "\n",
    "* the derivative of a CDF\n",
    "* Refer to notes I got on CDF, PDF, and PMF"
   ]
  },
  {
   "cell_type": "markdown",
   "id": "b97c8e4b-0be5-4ee4-b8a7-e16c47f5e0fb",
   "metadata": {
    "tags": []
   },
   "source": [
    "### Working with BFRSS data. Create model of Normal PDF for female heights"
   ]
  },
  {
   "cell_type": "code",
   "execution_count": 164,
   "id": "34efb7b5-ac71-4603-a1c2-9c850cf290f4",
   "metadata": {},
   "outputs": [],
   "source": [
    "df = brfss.ReadBrfss(nrows=None)"
   ]
  },
  {
   "cell_type": "code",
   "execution_count": 165,
   "id": "b1a1a4b9-5793-43cc-8d14-a5591246c9ec",
   "metadata": {},
   "outputs": [
    {
     "name": "stdout",
     "output_type": "stream",
     "text": [
      "(414509, 6)\n"
     ]
    },
    {
     "data": {
      "text/html": [
       "<div>\n",
       "<style scoped>\n",
       "    .dataframe tbody tr th:only-of-type {\n",
       "        vertical-align: middle;\n",
       "    }\n",
       "\n",
       "    .dataframe tbody tr th {\n",
       "        vertical-align: top;\n",
       "    }\n",
       "\n",
       "    .dataframe thead th {\n",
       "        text-align: right;\n",
       "    }\n",
       "</style>\n",
       "<table border=\"1\" class=\"dataframe\">\n",
       "  <thead>\n",
       "    <tr style=\"text-align: right;\">\n",
       "      <th></th>\n",
       "      <th>age</th>\n",
       "      <th>sex</th>\n",
       "      <th>wtyrago</th>\n",
       "      <th>finalwt</th>\n",
       "      <th>wtkg2</th>\n",
       "      <th>htm3</th>\n",
       "    </tr>\n",
       "  </thead>\n",
       "  <tbody>\n",
       "    <tr>\n",
       "      <th>0</th>\n",
       "      <td>82.0</td>\n",
       "      <td>2</td>\n",
       "      <td>76.363636</td>\n",
       "      <td>185.870345</td>\n",
       "      <td>70.91</td>\n",
       "      <td>157.0</td>\n",
       "    </tr>\n",
       "    <tr>\n",
       "      <th>1</th>\n",
       "      <td>65.0</td>\n",
       "      <td>2</td>\n",
       "      <td>72.727273</td>\n",
       "      <td>126.603027</td>\n",
       "      <td>72.73</td>\n",
       "      <td>163.0</td>\n",
       "    </tr>\n",
       "    <tr>\n",
       "      <th>2</th>\n",
       "      <td>48.0</td>\n",
       "      <td>2</td>\n",
       "      <td>NaN</td>\n",
       "      <td>181.063210</td>\n",
       "      <td>NaN</td>\n",
       "      <td>165.0</td>\n",
       "    </tr>\n",
       "    <tr>\n",
       "      <th>3</th>\n",
       "      <td>61.0</td>\n",
       "      <td>1</td>\n",
       "      <td>73.636364</td>\n",
       "      <td>517.926275</td>\n",
       "      <td>73.64</td>\n",
       "      <td>170.0</td>\n",
       "    </tr>\n",
       "    <tr>\n",
       "      <th>4</th>\n",
       "      <td>26.0</td>\n",
       "      <td>1</td>\n",
       "      <td>88.636364</td>\n",
       "      <td>1252.624630</td>\n",
       "      <td>88.64</td>\n",
       "      <td>185.0</td>\n",
       "    </tr>\n",
       "  </tbody>\n",
       "</table>\n",
       "</div>"
      ],
      "text/plain": [
       "    age  sex    wtyrago      finalwt  wtkg2   htm3\n",
       "0  82.0    2  76.363636   185.870345  70.91  157.0\n",
       "1  65.0    2  72.727273   126.603027  72.73  163.0\n",
       "2  48.0    2        NaN   181.063210    NaN  165.0\n",
       "3  61.0    1  73.636364   517.926275  73.64  170.0\n",
       "4  26.0    1  88.636364  1252.624630  88.64  185.0"
      ]
     },
     "execution_count": 165,
     "metadata": {},
     "output_type": "execute_result"
    }
   ],
   "source": [
    "print(df.shape)\n",
    "df.head()"
   ]
  },
  {
   "cell_type": "code",
   "execution_count": 177,
   "id": "6dc81eb3-c5b8-46a5-a84b-30840d34a0f7",
   "metadata": {},
   "outputs": [],
   "source": [
    "female = df[df.sex == 2]\n",
    "female_heights = female.htm3.dropna().sort_values()"
   ]
  },
  {
   "cell_type": "code",
   "execution_count": 182,
   "id": "2c09a556-4dd3-4702-8f2c-abce1a47b7da",
   "metadata": {},
   "outputs": [
    {
     "data": {
      "text/plain": [
       "(163.22347500412215, 7.269156286642234)"
      ]
     },
     "execution_count": 182,
     "metadata": {},
     "output_type": "execute_result"
    }
   ],
   "source": [
    "w_mean, w_std = female_heights.mean(), female_heights.std()\n",
    "w_mean,w_std"
   ]
  },
  {
   "cell_type": "code",
   "execution_count": 190,
   "id": "7c0f0b22-0b23-4e8c-b901-70a2796bfbaa",
   "metadata": {},
   "outputs": [
    {
     "data": {
      "image/png": "[encoded data removed]",
      "text/plain": [
       "<Figure size 432x288 with 1 Axes>"
      ]
     },
     "metadata": {
      "needs_background": "light"
     },
     "output_type": "display_data"
    }
   ],
   "source": [
    "# creating instance of stats.norm class and initialize object with mean = 100 and std = 15\n",
    "fh_normal = stats.norm(loc= w_mean, scale= w_std)\n",
    "\n",
    "#create values for horizontal axis\n",
    "fh_pdf = np.linspace(140,190,100)\n",
    "\n",
    "#Plt with vertical(y) values from `normal.pdf(t)`\n",
    "plt.plot(fh_pdf, fh_normal.pdf(fh_pdf),label='Normal PDF')\n",
    "\n",
    "plt.title(\"Probability Density with a smooth curve\")\n",
    "plt.xlabel(\"Female Heights\")\n",
    "plt.legend()\n",
    "plt.show()"
   ]
  },
  {
   "cell_type": "markdown",
   "id": "c637bc8f-be6d-4be4-b347-1c576fb44da0",
   "metadata": {
    "tags": []
   },
   "source": [
    "## 6.2 Kernel Density Estimation\n",
    "Using a sample from the actual distribution, we can estimate the PDF using Kernel Density Estimation (KDE). \n",
    "\n",
    "Why is it useful?\n",
    "* **Visualization**: During exploration phase, I can decide whether CDF or PDF if easier to understand for an audience\n",
    "* **Interpolation**: An estimated PDF is a way to get from a sample to a model of the population. If you have reason to believe that the population distribution is smooth, you can use KDE to interpolate the density for values that don't appear in the sample. \n",
    "* **Simulation**: Simulations are often based on the distribution of a sample. If sample size is small, it might be appropriate to smooth the sample distribution using KDE, which allows the simulation ti explore more possible outcomes, rather than replicating the observed data. "
   ]
  },
  {
   "cell_type": "code",
   "execution_count": 233,
   "id": "16ac1f55-4904-4594-ba4d-10b189a8286f",
   "metadata": {},
   "outputs": [
    {
     "data": {
      "image/png": "[encoded data removed]",
      "text/plain": [
       "<Figure size 432x288 with 1 Axes>"
      ]
     },
     "metadata": {
      "needs_background": "light"
     },
     "output_type": "display_data"
    }
   ],
   "source": [
    "#sample of n=500 from actual distribution for x values\n",
    "fh_sample = np.random.normal(w_mean, w_std, 500)\n",
    "fh_sample_x = np.linspace(min(fh_sample), max(fh_sample))\n",
    "\n",
    "#y-values using #gaussian_kde.evaluate for density values\n",
    "fh_kde = gaussian_kde(fh_sample)\n",
    "fh_sample_y = fh_kde.evaluate(fh_sample_x)\n",
    "\n",
    "plt.plot(fh_sample_x, fh_sample_y, label = \"sample KDE\")\n",
    "plt.plot(fh_pdf, fh_normal.pdf(fh_pdf),label='Normal PDF')\n",
    "\n",
    "plt.legend()\n",
    "plt.show()"
   ]
  },
  {
   "cell_type": "code",
   "execution_count": null,
   "id": "13f2b8f8-a528-45c0-b825-6570cfa654ed",
   "metadata": {},
   "outputs": [],
   "source": [
    "#trying the sns kde plot, but i don't get it too well\n",
    "sns.kdeplot(female_heights, bw_method=5)"
   ]
  },
  {
   "cell_type": "markdown",
   "id": "9e15891d-73eb-41dc-a8ec-f214f25a9374",
   "metadata": {
    "tags": []
   },
   "source": [
    "## 6.3 The distribution framework"
   ]
  },
  {
   "attachments": {
    "c7649903-bccb-4af2-9de3-643bedb7e705.png": {
     "image/png": "[encoded data removed]"
    }
   },
   "cell_type": "markdown",
   "id": "1ba010f7-fd95-4d9e-af11-a39100873cca",
   "metadata": {},
   "source": [
    "We started with PMFs, which represent the probabilities for a discrete set of values. \n",
    "* To get from a PMF to a CDF, you add up the probaility (summation) to get cumulative probabilities. \n",
    "* To get from a CDF to a PMF, you compute differences (differencing) in cumulative probabilities. \n",
    "\n",
    "A PDF if the derivative of a continuous CDF; or equivalently, a CDF is the integral of a PDF. \n",
    "* Remember, a PDF maps from values to probability densities; to get a probability, you have to integrate.\n",
    "\n",
    "To get from a discrete to continuous distribution, you can perform various kinds of smoothing. \n",
    "* Ex) assume that the data come from an analytic continuous distribution( like exponential or normal) and to estimate the parameters of that distribution\n",
    "* Ex) Kernel Density Estimation\n",
    "\n",
    "Opposite of smoothing is discretizing, or quantizing. \n",
    "* If you evaluate a PDF at discrete points, you can generate a PMF that is an approx. of the PDF. You can get a better approx. using numerical integration. \n",
    "\n",
    "Will need to distinguish for yourself between continuous and discrete CDFs.\n",
    "![Screen Shot 2022-02-12 at 10.43.34 PM.png](attachment:c7649903-bccb-4af2-9de3-643bedb7e705.png)"
   ]
  },
  {
   "cell_type": "markdown",
   "id": "5f33ba87-21b7-4044-ab6d-db09e2ecd819",
   "metadata": {},
   "source": [
    "6.7 Moments \n",
    "\n",
    "Understand that anytime you take a sample and reduce it to a single number, that number is a statistic. So far: mean, variance, median, and interquartile range.\n",
    "\n",
    "* Raw Moment: If you have a sample of values, $x_i$, the kth raw moment is (equation where k=1)\n",
    "    * raw moments are just sums of powers\n",
    "* Central Moments are more useful. When k=2 the result is the second central moment (variance)\n",
    "    * central moments are powers of distance from the mean\n",
    "    * first cental moment approx 0. Second central moment is the variance\n",
    "* standardized moments: \n",
    "    * ratios of central moments, with powers chosen to make the dimensions cancel (without units)\n",
    "    * third standardized moment is skewness (but heavily relies on outliers which makes it not very robust)\n",
    "\n",
    "Moment-based statistics reported on units. First moments in, ex, cm. Second moment as cm^2, third moment in cm^3\n"
   ]
  },
  {
   "cell_type": "markdown",
   "id": "b3271193-badf-4e63-8ced-85322af8b9d9",
   "metadata": {},
   "source": [
    "6.8 Skewness\n",
    "\n",
    "Skewness is a property that describes the shape of a distribution. If distribution is symmetric around its central tendency, it is unskewed. If values extend farther right or left then \"right skewed\" or \"left skewed\". Not a descritption of bias, only describes shape.\n",
    "\n",
    "How to compute:\n",
    "* Sample skewness\n",
    "* Pearson's median skewness coefficient: measure based on the difference between sample mean and median  `g_p = 3(x ̄bar − m)/S`\n",
    "    * where m = mean, S = std\n",
    "    * More robust option\n"
   ]
  },
  {
   "cell_type": "code",
   "execution_count": null,
   "id": "bb886dc5-41d1-4281-bea8-d40cc2769f60",
   "metadata": {},
   "outputs": [],
   "source": []
  }
 ],
 "metadata": {
  "kernelspec": {
   "display_name": "Python 3 (ipykernel)",
   "language": "python",
   "name": "python3"
  },
  "language_info": {
   "codemirror_mode": {
    "name": "ipython",
    "version": 3
   },
   "file_extension": ".py",
   "mimetype": "text/x-python",
   "name": "python",
   "nbconvert_exporter": "python",
   "pygments_lexer": "ipython3",
   "version": "3.9.7"
  }
 },
 "nbformat": 4,
 "nbformat_minor": 5
}
